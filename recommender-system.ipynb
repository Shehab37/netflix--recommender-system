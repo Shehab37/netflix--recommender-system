{
 "cells": [
  {
   "cell_type": "code",
   "execution_count": 1,
   "metadata": {},
   "outputs": [
    {
     "data": {
      "text/plain": [
       "211"
      ]
     },
     "execution_count": 1,
     "metadata": {},
     "output_type": "execute_result"
    }
   ],
   "source": [
    "import pandas as pd\n",
    "import numpy as np\n",
    "import re\n",
    "from datetime import datetime\n",
    "import matplotlib.pyplot as plt\n",
    "import seaborn as sns\n",
    "\n",
    "from tensorflow.keras import models, layers, utils \n",
    "from sklearn import metrics, preprocessing\n",
    "import os\n",
    "import gc\n",
    "\n",
    "\n",
    "import math\n",
    "import re\n",
    "from scipy.sparse import csr_matrix\n",
    "import matplotlib.pyplot as plt\n",
    "import seaborn as sns\n",
    "from surprise import Reader, Dataset, SVD\n",
    "from surprise.model_selection import cross_validate\n",
    "sns.set_style(\"darkgrid\")\n",
    "\n",
    "gc.collect()\n"
   ]
  },
  {
   "cell_type": "code",
   "execution_count": 2,
   "metadata": {},
   "outputs": [],
   "source": [
    "path = \"D:\\\\netflix dataset\\\\netflix-prize-data\"\n"
   ]
  },
  {
   "cell_type": "code",
   "execution_count": 4,
   "metadata": {},
   "outputs": [
    {
     "name": "stdout",
     "output_type": "stream",
     "text": [
      "['combined_data_1.txt', 'combined_data_2.txt', 'combined_data_3.txt', 'combined_data_4.txt', 'movie_titles.csv', 'probe.txt', 'qualifying.txt', 'README']\n",
      "Reading ratings from combined_data_1.txt\n",
      "\n",
      "Time taken : 0:01:16.384216\n"
     ]
    }
   ],
   "source": [
    "start = datetime.now()\n",
    "if not os.path.isfile('data.csv'):\n",
    "    data = open('data.csv', mode='w')\n",
    "    row = list()\n",
    "    files = os.listdir(path)\n",
    "    print(files)\n",
    "    for file in files:\n",
    "        if file.startswith('combined_data'):\n",
    "        # if file.startswith('combined_data_1'):   # use this line to process only one file\n",
    "            print(\"Reading ratings from {}\\n\".format(file))\n",
    "            with open(os.path.join(path,file)) as f:\n",
    "                for line in f:\n",
    "                    line = line.strip()\n",
    "                    if line.endswith(':'):\n",
    "                        # All below are ratings for this movie, until another movie appears.\n",
    "                        movie_id = line.replace(':', '')\n",
    "                    else:\n",
    "                        row = [x for x in line.split(',')]\n",
    "                        row.insert(0, movie_id)\n",
    "                        data.write(','.join(row))\n",
    "                        data.write('\\n')\n",
    "data.close()\n",
    "print('Time taken :', datetime.now() - start)\n"
   ]
  },
  {
   "cell_type": "code",
   "execution_count": 3,
   "metadata": {},
   "outputs": [],
   "source": [
    "df = pd.read_csv('data.csv', names=['Movie_Id', 'Cust_Id', 'Rating', 'Date'])\n"
   ]
  },
  {
   "cell_type": "code",
   "execution_count": 4,
   "metadata": {},
   "outputs": [
    {
     "data": {
      "text/html": [
       "<div>\n",
       "<style scoped>\n",
       "    .dataframe tbody tr th:only-of-type {\n",
       "        vertical-align: middle;\n",
       "    }\n",
       "\n",
       "    .dataframe tbody tr th {\n",
       "        vertical-align: top;\n",
       "    }\n",
       "\n",
       "    .dataframe thead th {\n",
       "        text-align: right;\n",
       "    }\n",
       "</style>\n",
       "<table border=\"1\" class=\"dataframe\">\n",
       "  <thead>\n",
       "    <tr style=\"text-align: right;\">\n",
       "      <th></th>\n",
       "      <th>Movie_Id</th>\n",
       "      <th>Cust_Id</th>\n",
       "      <th>Rating</th>\n",
       "      <th>Date</th>\n",
       "    </tr>\n",
       "  </thead>\n",
       "  <tbody>\n",
       "    <tr>\n",
       "      <th>0</th>\n",
       "      <td>1</td>\n",
       "      <td>1488844</td>\n",
       "      <td>3</td>\n",
       "      <td>2005-09-06</td>\n",
       "    </tr>\n",
       "    <tr>\n",
       "      <th>1</th>\n",
       "      <td>1</td>\n",
       "      <td>822109</td>\n",
       "      <td>5</td>\n",
       "      <td>2005-05-13</td>\n",
       "    </tr>\n",
       "    <tr>\n",
       "      <th>2</th>\n",
       "      <td>1</td>\n",
       "      <td>885013</td>\n",
       "      <td>4</td>\n",
       "      <td>2005-10-19</td>\n",
       "    </tr>\n",
       "    <tr>\n",
       "      <th>3</th>\n",
       "      <td>1</td>\n",
       "      <td>30878</td>\n",
       "      <td>4</td>\n",
       "      <td>2005-12-26</td>\n",
       "    </tr>\n",
       "    <tr>\n",
       "      <th>4</th>\n",
       "      <td>1</td>\n",
       "      <td>823519</td>\n",
       "      <td>3</td>\n",
       "      <td>2004-05-03</td>\n",
       "    </tr>\n",
       "  </tbody>\n",
       "</table>\n",
       "</div>"
      ],
      "text/plain": [
       "   Movie_Id  Cust_Id  Rating        Date\n",
       "0         1  1488844       3  2005-09-06\n",
       "1         1   822109       5  2005-05-13\n",
       "2         1   885013       4  2005-10-19\n",
       "3         1    30878       4  2005-12-26\n",
       "4         1   823519       3  2004-05-03"
      ]
     },
     "execution_count": 4,
     "metadata": {},
     "output_type": "execute_result"
    }
   ],
   "source": [
    "df.head()\n"
   ]
  },
  {
   "cell_type": "code",
   "execution_count": 5,
   "metadata": {},
   "outputs": [
    {
     "name": "stdout",
     "output_type": "stream",
     "text": [
      "<class 'pandas.core.frame.DataFrame'>\n",
      "RangeIndex: 100480507 entries, 0 to 100480506\n",
      "Data columns (total 4 columns):\n",
      " #   Column    Dtype \n",
      "---  ------    ----- \n",
      " 0   Movie_Id  int64 \n",
      " 1   Cust_Id   int64 \n",
      " 2   Rating    int64 \n",
      " 3   Date      object\n",
      "dtypes: int64(3), object(1)\n",
      "memory usage: 3.0+ GB\n"
     ]
    }
   ],
   "source": [
    "df.info()"
   ]
  },
  {
   "cell_type": "code",
   "execution_count": 6,
   "metadata": {},
   "outputs": [
    {
     "name": "stdout",
     "output_type": "stream",
     "text": [
      "<class 'pandas.core.frame.DataFrame'>\n",
      "RangeIndex: 100480507 entries, 0 to 100480506\n",
      "Data columns (total 3 columns):\n",
      " #   Column    Dtype \n",
      "---  ------    ----- \n",
      " 0   Movie_Id  uint32\n",
      " 1   Cust_Id   uint32\n",
      " 2   Rating    uint8 \n",
      "dtypes: uint32(2), uint8(1)\n",
      "memory usage: 862.4 MB\n"
     ]
    }
   ],
   "source": [
    "df['Movie_Id'] = df['Movie_Id'].astype(np.uint32)\n",
    "df['Cust_Id'] = df['Cust_Id'].astype(np.uint32)\n",
    "df['Rating'] = df['Rating'].astype(np.uint8)\n",
    "df.drop(['Date'], axis=1, inplace=True)\n",
    "df.info()\n"
   ]
  },
  {
   "cell_type": "code",
   "execution_count": 7,
   "metadata": {},
   "outputs": [
    {
     "name": "stdout",
     "output_type": "stream",
     "text": [
      "Movie minimum times of review: 1948.0\n",
      "Customer minimum times of review: 211.0\n",
      "Original Shape: (100480507, 3)\n",
      "After Trim Shape: (71833509, 3)\n",
      "number of movies deleted is  12438\n",
      "number of customers deleted is  335809\n"
     ]
    }
   ],
   "source": [
    "f = ['count', 'mean']\n",
    "\n",
    "df_movie_summary = df.groupby('Movie_Id')['Rating'].agg(f)\n",
    "df_movie_summary.index = df_movie_summary.index.map(int)\n",
    "movie_benchmark = round(df_movie_summary['count'].quantile(0.7), 0)\n",
    "drop_movie_list = df_movie_summary[df_movie_summary['count']\n",
    "                                   < movie_benchmark].index\n",
    "\n",
    "print('Movie minimum times of review: {}'.format(movie_benchmark))\n",
    "\n",
    "df_cust_summary = df.groupby('Cust_Id')['Rating'].agg(f)\n",
    "df_cust_summary.index = df_cust_summary.index.map(int)\n",
    "cust_benchmark = round(df_cust_summary['count'].quantile(0.7), 0)\n",
    "drop_cust_list = df_cust_summary[df_cust_summary['count']\n",
    "                                 < cust_benchmark].index\n",
    "\n",
    "print('Customer minimum times of review: {}'.format(cust_benchmark))\n",
    "\n",
    "print('Original Shape: {}'.format(df.shape))\n",
    "df = df[~df['Movie_Id'].isin(drop_movie_list)]\n",
    "df = df[~df['Cust_Id'].isin(drop_cust_list)]\n",
    "print('After Trim Shape: {}'.format(df.shape))\n",
    "\n",
    "\n",
    "print(\"number of movies deleted is \" , len(drop_movie_list))\n",
    "print(\"number of customers deleted is \" , len(drop_cust_list))"
   ]
  },
  {
   "cell_type": "code",
   "execution_count": 8,
   "metadata": {},
   "outputs": [
    {
     "name": "stdout",
     "output_type": "stream",
     "text": [
      "<class 'pandas.core.frame.DataFrame'>\n",
      "Int64Index: 71833509 entries, 693 to 100479585\n",
      "Data columns (total 3 columns):\n",
      " #   Column    Dtype \n",
      "---  ------    ----- \n",
      " 0   Movie_Id  uint32\n",
      " 1   Cust_Id   uint32\n",
      " 2   Rating    uint8 \n",
      "dtypes: uint32(2), uint8(1)\n",
      "memory usage: 1.1 GB\n"
     ]
    }
   ],
   "source": [
    "# del df_cust_summary, df_movie_summary, drop_movie_list, drop_cust_list\n",
    "gc.collect()\n",
    "df.info()\n"
   ]
  },
  {
   "cell_type": "code",
   "execution_count": 9,
   "metadata": {},
   "outputs": [
    {
     "data": {
      "text/html": [
       "<div>\n",
       "<style scoped>\n",
       "    .dataframe tbody tr th:only-of-type {\n",
       "        vertical-align: middle;\n",
       "    }\n",
       "\n",
       "    .dataframe tbody tr th {\n",
       "        vertical-align: top;\n",
       "    }\n",
       "\n",
       "    .dataframe thead th {\n",
       "        text-align: right;\n",
       "    }\n",
       "</style>\n",
       "<table border=\"1\" class=\"dataframe\">\n",
       "  <thead>\n",
       "    <tr style=\"text-align: right;\">\n",
       "      <th></th>\n",
       "      <th>Year</th>\n",
       "      <th>Name</th>\n",
       "    </tr>\n",
       "    <tr>\n",
       "      <th>Movie_Id</th>\n",
       "      <th></th>\n",
       "      <th></th>\n",
       "    </tr>\n",
       "  </thead>\n",
       "  <tbody>\n",
       "    <tr>\n",
       "      <th>1</th>\n",
       "      <td>2003.0</td>\n",
       "      <td>Dinosaur Planet</td>\n",
       "    </tr>\n",
       "    <tr>\n",
       "      <th>2</th>\n",
       "      <td>2004.0</td>\n",
       "      <td>Isle of Man TT 2004 Review</td>\n",
       "    </tr>\n",
       "    <tr>\n",
       "      <th>3</th>\n",
       "      <td>1997.0</td>\n",
       "      <td>Character</td>\n",
       "    </tr>\n",
       "    <tr>\n",
       "      <th>4</th>\n",
       "      <td>1994.0</td>\n",
       "      <td>Paula Abdul's Get Up &amp; Dance</td>\n",
       "    </tr>\n",
       "    <tr>\n",
       "      <th>5</th>\n",
       "      <td>2004.0</td>\n",
       "      <td>The Rise and Fall of ECW</td>\n",
       "    </tr>\n",
       "    <tr>\n",
       "      <th>6</th>\n",
       "      <td>1997.0</td>\n",
       "      <td>Sick</td>\n",
       "    </tr>\n",
       "    <tr>\n",
       "      <th>7</th>\n",
       "      <td>1992.0</td>\n",
       "      <td>8 Man</td>\n",
       "    </tr>\n",
       "    <tr>\n",
       "      <th>8</th>\n",
       "      <td>2004.0</td>\n",
       "      <td>What the #$*! Do We Know!?</td>\n",
       "    </tr>\n",
       "    <tr>\n",
       "      <th>9</th>\n",
       "      <td>1991.0</td>\n",
       "      <td>Class of Nuke 'Em High 2</td>\n",
       "    </tr>\n",
       "    <tr>\n",
       "      <th>10</th>\n",
       "      <td>2001.0</td>\n",
       "      <td>Fighter</td>\n",
       "    </tr>\n",
       "  </tbody>\n",
       "</table>\n",
       "</div>"
      ],
      "text/plain": [
       "            Year                          Name\n",
       "Movie_Id                                      \n",
       "1         2003.0               Dinosaur Planet\n",
       "2         2004.0    Isle of Man TT 2004 Review\n",
       "3         1997.0                     Character\n",
       "4         1994.0  Paula Abdul's Get Up & Dance\n",
       "5         2004.0      The Rise and Fall of ECW\n",
       "6         1997.0                          Sick\n",
       "7         1992.0                         8 Man\n",
       "8         2004.0    What the #$*! Do We Know!?\n",
       "9         1991.0      Class of Nuke 'Em High 2\n",
       "10        2001.0                       Fighter"
      ]
     },
     "execution_count": 9,
     "metadata": {},
     "output_type": "execute_result"
    }
   ],
   "source": [
    "df_title = pd.read_csv(\"D:\\\\netflix dataset\\\\netflix-prize-data\\\\movie_titles.csv\", encoding=\"ISO-8859-1\",\n",
    "                        header=None, names=['Movie_Id', 'Year', 'Name'], usecols=[0, 1, 2])\n",
    "df_title.set_index('Movie_Id', inplace=True)\n",
    "\n",
    "df_title.head(10)\n"
   ]
  },
  {
   "cell_type": "code",
   "execution_count": null,
   "metadata": {},
   "outputs": [],
   "source": []
  },
  {
   "cell_type": "code",
   "execution_count": 10,
   "metadata": {},
   "outputs": [
    {
     "name": "stdout",
     "output_type": "stream",
     "text": [
      "(144380, 5332)\n"
     ]
    }
   ],
   "source": [
    "df_pivot = pd.pivot_table(df, values='Rating',\n",
    "                      index='Cust_Id', columns='Movie_Id')\n",
    "\n",
    "print(df_pivot.shape)\n"
   ]
  },
  {
   "cell_type": "code",
   "execution_count": 12,
   "metadata": {},
   "outputs": [
    {
     "name": "stdout",
     "output_type": "stream",
     "text": [
      "<class 'pandas.core.frame.DataFrame'>\n",
      "UInt64Index: 144380 entries, 6 to 2649429\n",
      "Columns: 5332 entries, 3 to 17769\n",
      "dtypes: float64(5332)\n",
      "memory usage: 5.7 GB\n"
     ]
    }
   ],
   "source": [
    "df_pivot.info()\n",
    "# nearly 6 gb of ram is used by pivot table"
   ]
  },
  {
   "cell_type": "code",
   "execution_count": 51,
   "metadata": {},
   "outputs": [],
   "source": [
    "# min count is min count of ratings given by a customer\n",
    "def get_similar_movies(movie_title, min_count = 0):\n",
    "    print(\"For movie ({})\".format(movie_title))\n",
    "    print(\"- Top 10 movies recommended based on Pearsons'R correlation - \")\n",
    "    i = int(df_title.index[df_title['Name'] == movie_title][0])\n",
    "    target = df_pivot[i]\n",
    "    similar_to_target = df_pivot.corrwith(target)\n",
    "    corr_target = pd.DataFrame(similar_to_target, columns=['PearsonR'])\n",
    "    corr_target.dropna(inplace = True)\n",
    "    corr_target = corr_target.sort_values('PearsonR', ascending = False)\n",
    "    corr_target.index = corr_target.index.map(int)\n",
    "    corr_target = corr_target.join(df_title).join(df_movie_summary)[['PearsonR', 'Name', 'count', 'mean']]\n",
    "    corr_target.rename(columns={\"Name\": \"movie name\", \"count\": \"number of ratings\"  , \"mean\": \"average rating\" ,\n",
    "                                \"PearsonR\": \"Pearson correlation coefficient\"}, inplace=True)\n",
    "    \n",
    "    print(corr_target[corr_target['number of ratings']>min_count][1:11].to_string(index=False))"
   ]
  },
  {
   "cell_type": "code",
   "execution_count": 52,
   "metadata": {},
   "outputs": [
    {
     "name": "stdout",
     "output_type": "stream",
     "text": [
      "For movie (Lord of the Rings: The Fellowship of the Ring)\n",
      "- Top 10 movies recommended based on Pearsons'R correlation - \n",
      " Pearson correlation coefficient                                                          movie name  number of ratings  average rating\n",
      "                        0.809049                                   Lord of the Rings: The Two Towers             151245        4.460676\n",
      "                        0.756614                           Lord of the Rings: The Return of the King             134284        4.545121\n",
      "                        0.691485 The Lord of the Rings: The Fellowship of the Ring: Extended Edition              73422        4.716611\n",
      "                        0.657337                 Lord of the Rings: The Two Towers: Extended Edition              74912        4.702611\n",
      "                        0.631096         Lord of the Rings: The Return of the King: Extended Edition              73335        4.723270\n",
      "                        0.259167                                                          The Matrix             140763        4.230643\n",
      "                        0.256870                                                               X-Men              99304        3.891223\n",
      "                        0.253724                               Harry Potter and the Sorcerer's Stone             106238        4.091709\n",
      "                        0.251768                                                    X2: X-Men United              98720        3.932202\n",
      "                        0.248582                       Star Wars: Episode V: The Empire Strikes Back              92470        4.543701\n"
     ]
    }
   ],
   "source": [
    "get_similar_movies(\"Lord of the Rings: The Fellowship of the Ring\", 30000)\n",
    "# you can see it outputs similar movies \n"
   ]
  },
  {
   "cell_type": "code",
   "execution_count": 53,
   "metadata": {},
   "outputs": [
    {
     "name": "stdout",
     "output_type": "stream",
     "text": [
      "For movie (Fight Club)\n",
      "- Top 10 movies recommended based on Pearsons'R correlation - \n",
      " Pearson correlation coefficient                            movie name  number of ratings  average rating\n",
      "                        0.380089                            12 Monkeys              76475        3.776084\n",
      "                        0.378151                                Snatch              68818        3.848005\n",
      "                        0.364983                               Memento             127318        3.851427\n",
      "                        0.357912                          Pulp Fiction             152078        4.094235\n",
      "                        0.347596                         Trainspotting              24446        3.885953\n",
      "                        0.343847 Eternal Sunshine of the Spotless Mind             110159        3.695304\n",
      "                        0.333834                        Reservoir Dogs              90450        4.003847\n",
      "                        0.326851  The Royal Tenenbaums: Bonus Material               2452        4.015905\n",
      "                        0.325274                                 Seven              99324        4.134952\n",
      "                        0.324509                              Sin City              56147        3.597663\n",
      "For movie (Fight Club)\n",
      "- Top 10 movies recommended based on Pearsons'R correlation - \n",
      " Pearson correlation coefficient                            movie name  number of ratings  average rating\n",
      "                        0.364983                               Memento             127318        3.851427\n",
      "                        0.357912                          Pulp Fiction             152078        4.094235\n",
      "                        0.343847 Eternal Sunshine of the Spotless Mind             110159        3.695304\n",
      "                        0.333834                        Reservoir Dogs              90450        4.003847\n",
      "                        0.325274                                 Seven              99324        4.134952\n",
      "                        0.317807                       American Beauty             154832        3.962585\n",
      "                        0.310578                      The Big Lebowski              81316        3.761363\n",
      "                        0.303631                     Kill Bill: Vol. 1             140564        3.759192\n",
      "                        0.299501                          Office Space              90320        4.079318\n",
      "                        0.294644                  The Royal Tenenbaums             147251        3.279835\n"
     ]
    }
   ],
   "source": [
    "get_similar_movies(\"Fight Club\")\n",
    "get_similar_movies(\"Fight Club\", 80000)\n",
    "# here it actually ouputs movies of the same genre or the the same director\n",
    "# and min count produces better recommendations if used correctly"
   ]
  },
  {
   "cell_type": "code",
   "execution_count": 54,
   "metadata": {},
   "outputs": [
    {
     "name": "stdout",
     "output_type": "stream",
     "text": [
      "For movie (Saving Private Ryan)\n",
      "- Top 10 movies recommended based on Pearsons'R correlation - \n",
      " Pearson correlation coefficient        movie name  number of ratings  average rating\n",
      "                        0.348649   Black Hawk Down              77597        3.859608\n",
      "                        0.343554        Braveheart             135601        4.294423\n",
      "                        0.328930         Apollo 13              98116        4.082576\n",
      "                        0.321378         Gladiator             150592        4.202713\n",
      "                        0.321019      Forrest Gump             181508        4.299910\n",
      "                        0.315738  Band of Brothers              37514        4.513328\n",
      "                        0.315564           Platoon              64175        3.986038\n",
      "                        0.303892  We Were Soldiers              64917        4.005299\n",
      "                        0.295405  Schindler's List             101141        4.458004\n",
      "                        0.292609 Sands of Iwo Jima               7803        3.705242\n"
     ]
    }
   ],
   "source": [
    "get_similar_movies(\"Saving Private Ryan\", 0)\n",
    "# here it ouputs similar war movies\n"
   ]
  },
  {
   "cell_type": "code",
   "execution_count": null,
   "metadata": {},
   "outputs": [],
   "source": []
  },
  {
   "cell_type": "code",
   "execution_count": null,
   "metadata": {},
   "outputs": [],
   "source": []
  },
  {
   "cell_type": "code",
   "execution_count": null,
   "metadata": {},
   "outputs": [],
   "source": []
  },
  {
   "cell_type": "code",
   "execution_count": null,
   "metadata": {},
   "outputs": [],
   "source": []
  },
  {
   "cell_type": "code",
   "execution_count": null,
   "metadata": {},
   "outputs": [],
   "source": []
  },
  {
   "cell_type": "code",
   "execution_count": 13,
   "metadata": {},
   "outputs": [
    {
     "data": {
      "text/plain": [
       "{'test_rmse': array([0.95945732, 0.96090222, 0.9599608 , 0.96005118, 0.95973295]),\n",
       " 'test_mae': array([0.7622917 , 0.76309682, 0.7625518 , 0.76276465, 0.76241396]),\n",
       " 'fit_time': (113.20451712608337,\n",
       "  116.81955790519714,\n",
       "  112.04496645927429,\n",
       "  105.27772545814514,\n",
       "  113.24493336677551),\n",
       " 'test_time': (47.689056396484375,\n",
       "  33.096291303634644,\n",
       "  34.603400468826294,\n",
       "  29.052910089492798,\n",
       "  29.621825218200684)}"
      ]
     },
     "execution_count": 13,
     "metadata": {},
     "output_type": "execute_result"
    }
   ],
   "source": [
    "reader = Reader()\n",
    "\n",
    "# get just top 100K rows for faster run time\n",
    "data = Dataset.load_from_df(df[['Cust_Id', 'Movie_Id', 'Rating']][:], reader)\n",
    "#data.split(n_folds=3)\n",
    "\n",
    "svd = SVD()\n",
    "cross_validate(svd, data, measures=['RMSE', 'MAE'])\n"
   ]
  },
  {
   "cell_type": "code",
   "execution_count": null,
   "metadata": {},
   "outputs": [],
   "source": []
  },
  {
   "cell_type": "code",
   "execution_count": null,
   "metadata": {},
   "outputs": [],
   "source": []
  },
  {
   "cell_type": "code",
   "execution_count": null,
   "metadata": {},
   "outputs": [],
   "source": []
  },
  {
   "cell_type": "code",
   "execution_count": null,
   "metadata": {},
   "outputs": [],
   "source": []
  },
  {
   "cell_type": "code",
   "execution_count": null,
   "metadata": {},
   "outputs": [],
   "source": []
  },
  {
   "cell_type": "code",
   "execution_count": null,
   "metadata": {},
   "outputs": [],
   "source": []
  },
  {
   "cell_type": "code",
   "execution_count": null,
   "metadata": {},
   "outputs": [],
   "source": []
  },
  {
   "cell_type": "code",
   "execution_count": null,
   "metadata": {},
   "outputs": [],
   "source": []
  },
  {
   "cell_type": "code",
   "execution_count": null,
   "metadata": {},
   "outputs": [],
   "source": []
  },
  {
   "cell_type": "code",
   "execution_count": null,
   "metadata": {},
   "outputs": [],
   "source": []
  },
  {
   "cell_type": "code",
   "execution_count": null,
   "metadata": {},
   "outputs": [],
   "source": []
  },
  {
   "cell_type": "code",
   "execution_count": 32,
   "metadata": {},
   "outputs": [
    {
     "data": {
      "text/plain": [
       "1674"
      ]
     },
     "execution_count": 32,
     "metadata": {},
     "output_type": "execute_result"
    }
   ],
   "source": []
  },
  {
   "cell_type": "code",
   "execution_count": null,
   "metadata": {},
   "outputs": [],
   "source": []
  },
  {
   "cell_type": "code",
   "execution_count": null,
   "metadata": {},
   "outputs": [],
   "source": []
  },
  {
   "cell_type": "code",
   "execution_count": null,
   "metadata": {},
   "outputs": [],
   "source": []
  },
  {
   "cell_type": "code",
   "execution_count": null,
   "metadata": {},
   "outputs": [],
   "source": []
  },
  {
   "cell_type": "code",
   "execution_count": null,
   "metadata": {},
   "outputs": [],
   "source": []
  },
  {
   "cell_type": "code",
   "execution_count": null,
   "metadata": {},
   "outputs": [],
   "source": []
  },
  {
   "cell_type": "code",
   "execution_count": null,
   "metadata": {},
   "outputs": [],
   "source": []
  },
  {
   "cell_type": "code",
   "execution_count": null,
   "metadata": {},
   "outputs": [],
   "source": []
  },
  {
   "cell_type": "code",
   "execution_count": null,
   "metadata": {},
   "outputs": [],
   "source": []
  },
  {
   "cell_type": "code",
   "execution_count": 8,
   "metadata": {},
   "outputs": [
    {
     "name": "stdout",
     "output_type": "stream",
     "text": [
      "(26851926, 2)\n",
      "(22605786, 2)\n",
      "(26982302, 2)\n",
      "(24058263, 2)\n",
      "(26851926, 2)\n"
     ]
    },
    {
     "data": {
      "text/html": [
       "<div>\n",
       "<style scoped>\n",
       "    .dataframe tbody tr th:only-of-type {\n",
       "        vertical-align: middle;\n",
       "    }\n",
       "\n",
       "    .dataframe tbody tr th {\n",
       "        vertical-align: top;\n",
       "    }\n",
       "\n",
       "    .dataframe thead th {\n",
       "        text-align: right;\n",
       "    }\n",
       "</style>\n",
       "<table border=\"1\" class=\"dataframe\">\n",
       "  <thead>\n",
       "    <tr style=\"text-align: right;\">\n",
       "      <th></th>\n",
       "      <th>Cust_Id</th>\n",
       "      <th>Rating</th>\n",
       "    </tr>\n",
       "  </thead>\n",
       "  <tbody>\n",
       "    <tr>\n",
       "      <th>0</th>\n",
       "      <td>13368:</td>\n",
       "      <td>NaN</td>\n",
       "    </tr>\n",
       "    <tr>\n",
       "      <th>1</th>\n",
       "      <td>2385003</td>\n",
       "      <td>4.0</td>\n",
       "    </tr>\n",
       "    <tr>\n",
       "      <th>2</th>\n",
       "      <td>659432</td>\n",
       "      <td>3.0</td>\n",
       "    </tr>\n",
       "    <tr>\n",
       "      <th>3</th>\n",
       "      <td>751812</td>\n",
       "      <td>2.0</td>\n",
       "    </tr>\n",
       "    <tr>\n",
       "      <th>4</th>\n",
       "      <td>2625420</td>\n",
       "      <td>2.0</td>\n",
       "    </tr>\n",
       "  </tbody>\n",
       "</table>\n",
       "</div>"
      ],
      "text/plain": [
       "   Cust_Id  Rating\n",
       "0   13368:     NaN\n",
       "1  2385003     4.0\n",
       "2   659432     3.0\n",
       "3   751812     2.0\n",
       "4  2625420     2.0"
      ]
     },
     "execution_count": 8,
     "metadata": {},
     "output_type": "execute_result"
    }
   ],
   "source": [
    "\n",
    "df1 = pd.read_csv(path + \"\\combined_data_4.txt\", header=None, names=['Cust_Id', 'Rating'], usecols=[0, 1])\n",
    "print(df1.shape)\n",
    "df  = df1.copy()\n",
    "del df1\n",
    "df2=pd.read_csv(path + \"\\combined_data_3.txt\", header = None, names = ['Cust_Id', 'Rating'], usecols = [0, 1])\n",
    "print(df2.shape)\n",
    "# df.append(df2)\n",
    "pd.concat([df, df2], ignore_index=True)\n",
    "del df2\n",
    "df3=pd.read_csv(path + \"\\combined_data_2.txt\", header=None, names=['Cust_Id', 'Rating'], usecols=[0, 1])\n",
    "print(df3.shape)\n",
    "pd.concat([df, df3], ignore_index=True)\n",
    "del df3\n",
    "df4=pd.read_csv(path + \"\\combined_data_1.txt\", header=None, names=['Cust_Id', 'Rating'], usecols=[0, 1])\n",
    "print(df4.shape)\n",
    "pd.concat([df, df4], ignore_index=True)\n",
    "del df4\n",
    "print(df.shape)\n",
    "df.head()\n",
    "\n"
   ]
  },
  {
   "cell_type": "code",
   "execution_count": 9,
   "metadata": {},
   "outputs": [
    {
     "name": "stdout",
     "output_type": "stream",
     "text": [
      "          Cust_Id  Rating\n",
      "0          13368:     NaN\n",
      "5000000    605496     5.0\n",
      "10000000   285173     5.0\n",
      "15000000   604335     5.0\n",
      "20000000  2503632     5.0\n",
      "25000000   470744     3.0\n"
     ]
    },
    {
     "data": {
      "text/html": [
       "<div>\n",
       "<style scoped>\n",
       "    .dataframe tbody tr th:only-of-type {\n",
       "        vertical-align: middle;\n",
       "    }\n",
       "\n",
       "    .dataframe tbody tr th {\n",
       "        vertical-align: top;\n",
       "    }\n",
       "\n",
       "    .dataframe thead th {\n",
       "        text-align: right;\n",
       "    }\n",
       "</style>\n",
       "<table border=\"1\" class=\"dataframe\">\n",
       "  <thead>\n",
       "    <tr style=\"text-align: right;\">\n",
       "      <th></th>\n",
       "      <th>Cust_Id</th>\n",
       "      <th>Rating</th>\n",
       "    </tr>\n",
       "  </thead>\n",
       "  <tbody>\n",
       "    <tr>\n",
       "      <th>0</th>\n",
       "      <td>13368:</td>\n",
       "      <td>NaN</td>\n",
       "    </tr>\n",
       "    <tr>\n",
       "      <th>1</th>\n",
       "      <td>2385003</td>\n",
       "      <td>4.0</td>\n",
       "    </tr>\n",
       "    <tr>\n",
       "      <th>2</th>\n",
       "      <td>659432</td>\n",
       "      <td>3.0</td>\n",
       "    </tr>\n",
       "    <tr>\n",
       "      <th>3</th>\n",
       "      <td>751812</td>\n",
       "      <td>2.0</td>\n",
       "    </tr>\n",
       "    <tr>\n",
       "      <th>4</th>\n",
       "      <td>2625420</td>\n",
       "      <td>2.0</td>\n",
       "    </tr>\n",
       "  </tbody>\n",
       "</table>\n",
       "</div>"
      ],
      "text/plain": [
       "   Cust_Id  Rating\n",
       "0   13368:     NaN\n",
       "1  2385003     4.0\n",
       "2   659432     3.0\n",
       "3   751812     2.0\n",
       "4  2625420     2.0"
      ]
     },
     "execution_count": 9,
     "metadata": {},
     "output_type": "execute_result"
    }
   ],
   "source": [
    "df.index = np.arange(0, len(df))\n",
    "\n",
    "print(df.iloc[::5000000, :])\n",
    "df.head()"
   ]
  },
  {
   "cell_type": "code",
   "execution_count": 10,
   "metadata": {},
   "outputs": [
    {
     "data": {
      "image/png": "[encoded data removed]",
      "text/plain": [
       "<Figure size 1080x720 with 1 Axes>"
      ]
     },
     "metadata": {
      "needs_background": "light"
     },
     "output_type": "display_data"
    }
   ],
   "source": [
    "p = df.groupby('Rating')['Rating'].agg(['count'])\n",
    "\n",
    "# get movie count\n",
    "movie_count = df.isnull().sum()[1]\n",
    "\n",
    "# get customer count\n",
    "cust_count = df['Cust_Id'].nunique() - movie_count\n",
    "\n",
    "# get rating count\n",
    "rating_count = df['Cust_Id'].count() - movie_count\n",
    "\n",
    "ax = p.plot(kind='barh', legend=False, figsize=(15, 10))\n",
    "plt.title('Total pool: {:,} Movies, {:,} customers, {:,} ratings given'.format(\n",
    "    movie_count, cust_count, rating_count), fontsize=20)\n",
    "plt.axis('off')\n",
    "\n",
    "for i in range(1, 6):\n",
    "    ax.text(p.iloc[i-1][0]/4, i-1, 'Rating {}: {:.0f}%'.format(i,\n",
    "            p.iloc[i-1][0]*100 / p.sum()[0]), color='white', weight='bold')\n"
   ]
  },
  {
   "cell_type": "code",
   "execution_count": 11,
   "metadata": {},
   "outputs": [
    {
     "data": {
      "text/html": [
       "<div>\n",
       "<style scoped>\n",
       "    .dataframe tbody tr th:only-of-type {\n",
       "        vertical-align: middle;\n",
       "    }\n",
       "\n",
       "    .dataframe tbody tr th {\n",
       "        vertical-align: top;\n",
       "    }\n",
       "\n",
       "    .dataframe thead th {\n",
       "        text-align: right;\n",
       "    }\n",
       "</style>\n",
       "<table border=\"1\" class=\"dataframe\">\n",
       "  <thead>\n",
       "    <tr style=\"text-align: right;\">\n",
       "      <th></th>\n",
       "      <th>Cust_Id</th>\n",
       "      <th>Rating</th>\n",
       "    </tr>\n",
       "  </thead>\n",
       "  <tbody>\n",
       "    <tr>\n",
       "      <th>0</th>\n",
       "      <td>13368:</td>\n",
       "      <td>NaN</td>\n",
       "    </tr>\n",
       "    <tr>\n",
       "      <th>1</th>\n",
       "      <td>2385003</td>\n",
       "      <td>4.0</td>\n",
       "    </tr>\n",
       "    <tr>\n",
       "      <th>2</th>\n",
       "      <td>659432</td>\n",
       "      <td>3.0</td>\n",
       "    </tr>\n",
       "    <tr>\n",
       "      <th>3</th>\n",
       "      <td>751812</td>\n",
       "      <td>2.0</td>\n",
       "    </tr>\n",
       "    <tr>\n",
       "      <th>4</th>\n",
       "      <td>2625420</td>\n",
       "      <td>2.0</td>\n",
       "    </tr>\n",
       "  </tbody>\n",
       "</table>\n",
       "</div>"
      ],
      "text/plain": [
       "   Cust_Id  Rating\n",
       "0   13368:     NaN\n",
       "1  2385003     4.0\n",
       "2   659432     3.0\n",
       "3   751812     2.0\n",
       "4  2625420     2.0"
      ]
     },
     "execution_count": 11,
     "metadata": {},
     "output_type": "execute_result"
    }
   ],
   "source": [
    "df.head()"
   ]
  },
  {
   "cell_type": "code",
   "execution_count": 12,
   "metadata": {},
   "outputs": [
    {
     "name": "stdout",
     "output_type": "stream",
     "text": [
      "Movie numpy: [1.000e+00 1.000e+00 1.000e+00 ... 4.403e+03 4.403e+03 4.403e+03]\n",
      "Length: 26847523\n"
     ]
    }
   ],
   "source": [
    "df_nan = pd.DataFrame(pd.isnull(df.Rating))\n",
    "df_nan = df_nan[df_nan['Rating'] == True]\n",
    "df_nan = df_nan.reset_index()\n",
    "\n",
    "movie_np = []\n",
    "movie_id = 1\n",
    "\n",
    "for i, j in zip(df_nan['index'][1:], df_nan['index'][:-1]):\n",
    "    # numpy approach\n",
    "    temp = np.full((1, i-j-1), movie_id)\n",
    "    movie_np = np.append(movie_np, temp)\n",
    "    movie_id += 1\n",
    "\n",
    "# Account for last record and corresponding length\n",
    "# numpy approach\n",
    "last_record = np.full((1, len(df) - df_nan.iloc[-1, 0] - 1), movie_id)\n",
    "movie_np = np.append(movie_np, last_record)\n",
    "\n",
    "print('Movie numpy: {}'.format(movie_np))\n",
    "print('Length: {}'.format(len(movie_np)))\n"
   ]
  },
  {
   "cell_type": "code",
   "execution_count": 14,
   "metadata": {},
   "outputs": [
    {
     "name": "stderr",
     "output_type": "stream",
     "text": [
      "C:\\Users\\user\\AppData\\Local\\Temp\\ipykernel_22404\\1628938347.py:4: SettingWithCopyWarning: \n",
      "A value is trying to be set on a copy of a slice from a DataFrame.\n",
      "Try using .loc[row_indexer,col_indexer] = value instead\n",
      "\n",
      "See the caveats in the documentation: https://pandas.pydata.org/pandas-docs/stable/user_guide/indexing.html#returning-a-view-versus-a-copy\n",
      "  df['Movie_Id'] = movie_np.astype(int)\n"
     ]
    },
    {
     "name": "stdout",
     "output_type": "stream",
     "text": [
      "-Dataset examples-\n",
      "          Cust_Id  Rating  Movie_Id\n",
      "1         2385003     4.0         1\n",
      "5000907    495207     1.0       907\n",
      "10001561  2243515     4.0      1561\n",
      "15002391  2210687     5.0      2391\n",
      "20003238  2088300     5.0      3238\n",
      "25004038   717559     3.0      4038\n"
     ]
    },
    {
     "name": "stderr",
     "output_type": "stream",
     "text": [
      "C:\\Users\\user\\AppData\\Local\\Temp\\ipykernel_22404\\1628938347.py:5: SettingWithCopyWarning: \n",
      "A value is trying to be set on a copy of a slice from a DataFrame.\n",
      "Try using .loc[row_indexer,col_indexer] = value instead\n",
      "\n",
      "See the caveats in the documentation: https://pandas.pydata.org/pandas-docs/stable/user_guide/indexing.html#returning-a-view-versus-a-copy\n",
      "  df['Cust_Id'] = df['Cust_Id'].astype(int)\n"
     ]
    }
   ],
   "source": [
    "# remove those Movie ID rows\n",
    "df = df[pd.notnull(df['Rating'])]\n",
    "\n",
    "df['Movie_Id'] = movie_np.astype(int)\n",
    "df['Cust_Id'] = df['Cust_Id'].astype(int)\n",
    "print('-Dataset examples-')\n",
    "print(df.iloc[::5000000, :])\n"
   ]
  },
  {
   "cell_type": "code",
   "execution_count": 15,
   "metadata": {},
   "outputs": [
    {
     "name": "stdout",
     "output_type": "stream",
     "text": [
      "Movie minimum times of review: 2044.0\n",
      "Customer minimum times of review: 58.0\n"
     ]
    }
   ],
   "source": [
    "f = ['count', 'mean']\n",
    "\n",
    "df_movie_summary = df.groupby('Movie_Id')['Rating'].agg(f)\n",
    "df_movie_summary.index = df_movie_summary.index.map(int)\n",
    "movie_benchmark = round(df_movie_summary['count'].quantile(0.7), 0)\n",
    "drop_movie_list = df_movie_summary[df_movie_summary['count']\n",
    "                                   < movie_benchmark].index\n",
    "\n",
    "print('Movie minimum times of review: {}'.format(movie_benchmark))\n",
    "\n",
    "df_cust_summary = df.groupby('Cust_Id')['Rating'].agg(f)\n",
    "df_cust_summary.index = df_cust_summary.index.map(int)\n",
    "cust_benchmark = round(df_cust_summary['count'].quantile(0.7), 0)\n",
    "drop_cust_list = df_cust_summary[df_cust_summary['count']\n",
    "                                 < cust_benchmark].index\n",
    "\n",
    "print('Customer minimum times of review: {}'.format(cust_benchmark))\n"
   ]
  },
  {
   "cell_type": "code",
   "execution_count": 16,
   "metadata": {},
   "outputs": [
    {
     "name": "stdout",
     "output_type": "stream",
     "text": [
      "Original Shape: (26847523, 3)\n",
      "After Trim Shape: (19013865, 3)\n",
      "-Data Examples-\n",
      "          Cust_Id  Rating  Movie_Id\n",
      "680        132390     3.0         3\n",
      "7033703   2571095     5.0      1171\n",
      "14066453   791676     3.0      2211\n",
      "21193983  1550718     5.0      3480\n"
     ]
    }
   ],
   "source": [
    "print('Original Shape: {}'.format(df.shape))\n",
    "df = df[~df['Movie_Id'].isin(drop_movie_list)]\n",
    "df = df[~df['Cust_Id'].isin(drop_cust_list)]\n",
    "print('After Trim Shape: {}'.format(df.shape))\n",
    "print('-Data Examples-')\n",
    "print(df.iloc[::5000000, :])\n"
   ]
  },
  {
   "cell_type": "code",
   "execution_count": 81,
   "metadata": {},
   "outputs": [
    {
     "data": {
      "text/html": [
       "<div>\n",
       "<style scoped>\n",
       "    .dataframe tbody tr th:only-of-type {\n",
       "        vertical-align: middle;\n",
       "    }\n",
       "\n",
       "    .dataframe tbody tr th {\n",
       "        vertical-align: top;\n",
       "    }\n",
       "\n",
       "    .dataframe thead th {\n",
       "        text-align: right;\n",
       "    }\n",
       "</style>\n",
       "<table border=\"1\" class=\"dataframe\">\n",
       "  <thead>\n",
       "    <tr style=\"text-align: right;\">\n",
       "      <th></th>\n",
       "      <th>Cust_Id</th>\n",
       "      <th>Rating</th>\n",
       "      <th>Movie_Id</th>\n",
       "    </tr>\n",
       "  </thead>\n",
       "  <tbody>\n",
       "    <tr>\n",
       "      <th>680</th>\n",
       "      <td>132390</td>\n",
       "      <td>3.0</td>\n",
       "      <td>3</td>\n",
       "    </tr>\n",
       "    <tr>\n",
       "      <th>681</th>\n",
       "      <td>613501</td>\n",
       "      <td>3.0</td>\n",
       "      <td>3</td>\n",
       "    </tr>\n",
       "    <tr>\n",
       "      <th>682</th>\n",
       "      <td>1116838</td>\n",
       "      <td>5.0</td>\n",
       "      <td>3</td>\n",
       "    </tr>\n",
       "    <tr>\n",
       "      <th>683</th>\n",
       "      <td>2445646</td>\n",
       "      <td>2.0</td>\n",
       "      <td>3</td>\n",
       "    </tr>\n",
       "    <tr>\n",
       "      <th>685</th>\n",
       "      <td>2059652</td>\n",
       "      <td>4.0</td>\n",
       "      <td>3</td>\n",
       "    </tr>\n",
       "  </tbody>\n",
       "</table>\n",
       "</div>"
      ],
      "text/plain": [
       "     Cust_Id  Rating  Movie_Id\n",
       "680   132390     3.0         3\n",
       "681   613501     3.0         3\n",
       "682  1116838     5.0         3\n",
       "683  2445646     2.0         3\n",
       "685  2059652     4.0         3"
      ]
     },
     "execution_count": 81,
     "metadata": {},
     "output_type": "execute_result"
    }
   ],
   "source": [
    "df.head()"
   ]
  },
  {
   "cell_type": "code",
   "execution_count": 8,
   "metadata": {},
   "outputs": [],
   "source": [
    "\n",
    "# df_p = pd.pivot_table(df, values='Rating', index='Cust_Id', columns='Movie_Id')\n",
    "\n",
    "# print(df_p.shape)\n",
    "# Below is another way I used to sparse the dataframe...doesn't seem to work better\n",
    "\n",
    "#Cust_Id_u = list(sorted(df['Cust_Id'].unique()))\n",
    "#Movie_Id_u = list(sorted(df['Movie_Id'].unique()))\n",
    "#data = df['Rating'].tolist()\n",
    "#row = df['Cust_Id'].astype('category', categories=Cust_Id_u).cat.codes\n",
    "#col = df['Movie_Id'].astype('category', categories=Movie_Id_u).cat.codes\n",
    "#sparse_matrix = csr_matrix((data, (row, col)), shape=(len(Cust_Id_u), len(Movie_Id_u)))\n",
    "#df_p = pd.DataFrame(sparse_matrix.todense(), index=Cust_Id_u, columns=Movie_Id_u)\n",
    "# df_p = df_p.replace(0, np.NaN)\n"
   ]
  },
  {
   "cell_type": "code",
   "execution_count": null,
   "metadata": {},
   "outputs": [],
   "source": []
  },
  {
   "cell_type": "code",
   "execution_count": null,
   "metadata": {},
   "outputs": [
    {
     "data": {
      "text/html": [
       "<div>\n",
       "<style scoped>\n",
       "    .dataframe tbody tr th:only-of-type {\n",
       "        vertical-align: middle;\n",
       "    }\n",
       "\n",
       "    .dataframe tbody tr th {\n",
       "        vertical-align: top;\n",
       "    }\n",
       "\n",
       "    .dataframe thead th {\n",
       "        text-align: right;\n",
       "    }\n",
       "</style>\n",
       "<table border=\"1\" class=\"dataframe\">\n",
       "  <thead>\n",
       "    <tr style=\"text-align: right;\">\n",
       "      <th>Movie_Id</th>\n",
       "      <th>3</th>\n",
       "      <th>11</th>\n",
       "      <th>12</th>\n",
       "      <th>15</th>\n",
       "      <th>16</th>\n",
       "      <th>17</th>\n",
       "      <th>21</th>\n",
       "      <th>22</th>\n",
       "      <th>24</th>\n",
       "      <th>25</th>\n",
       "      <th>...</th>\n",
       "      <th>4363</th>\n",
       "      <th>4374</th>\n",
       "      <th>4376</th>\n",
       "      <th>4384</th>\n",
       "      <th>4389</th>\n",
       "      <th>4391</th>\n",
       "      <th>4394</th>\n",
       "      <th>4395</th>\n",
       "      <th>4397</th>\n",
       "      <th>4402</th>\n",
       "    </tr>\n",
       "    <tr>\n",
       "      <th>Cust_Id</th>\n",
       "      <th></th>\n",
       "      <th></th>\n",
       "      <th></th>\n",
       "      <th></th>\n",
       "      <th></th>\n",
       "      <th></th>\n",
       "      <th></th>\n",
       "      <th></th>\n",
       "      <th></th>\n",
       "      <th></th>\n",
       "      <th></th>\n",
       "      <th></th>\n",
       "      <th></th>\n",
       "      <th></th>\n",
       "      <th></th>\n",
       "      <th></th>\n",
       "      <th></th>\n",
       "      <th></th>\n",
       "      <th></th>\n",
       "      <th></th>\n",
       "      <th></th>\n",
       "    </tr>\n",
       "  </thead>\n",
       "  <tbody>\n",
       "    <tr>\n",
       "      <th>6</th>\n",
       "      <td>NaN</td>\n",
       "      <td>4.0</td>\n",
       "      <td>NaN</td>\n",
       "      <td>NaN</td>\n",
       "      <td>NaN</td>\n",
       "      <td>NaN</td>\n",
       "      <td>NaN</td>\n",
       "      <td>NaN</td>\n",
       "      <td>4.0</td>\n",
       "      <td>NaN</td>\n",
       "      <td>...</td>\n",
       "      <td>NaN</td>\n",
       "      <td>NaN</td>\n",
       "      <td>NaN</td>\n",
       "      <td>NaN</td>\n",
       "      <td>NaN</td>\n",
       "      <td>NaN</td>\n",
       "      <td>NaN</td>\n",
       "      <td>NaN</td>\n",
       "      <td>NaN</td>\n",
       "      <td>NaN</td>\n",
       "    </tr>\n",
       "    <tr>\n",
       "      <th>7</th>\n",
       "      <td>NaN</td>\n",
       "      <td>NaN</td>\n",
       "      <td>NaN</td>\n",
       "      <td>NaN</td>\n",
       "      <td>5.0</td>\n",
       "      <td>5.0</td>\n",
       "      <td>4.0</td>\n",
       "      <td>NaN</td>\n",
       "      <td>NaN</td>\n",
       "      <td>5.0</td>\n",
       "      <td>...</td>\n",
       "      <td>NaN</td>\n",
       "      <td>NaN</td>\n",
       "      <td>NaN</td>\n",
       "      <td>NaN</td>\n",
       "      <td>NaN</td>\n",
       "      <td>NaN</td>\n",
       "      <td>NaN</td>\n",
       "      <td>NaN</td>\n",
       "      <td>3.0</td>\n",
       "      <td>NaN</td>\n",
       "    </tr>\n",
       "    <tr>\n",
       "      <th>10</th>\n",
       "      <td>NaN</td>\n",
       "      <td>NaN</td>\n",
       "      <td>NaN</td>\n",
       "      <td>NaN</td>\n",
       "      <td>NaN</td>\n",
       "      <td>NaN</td>\n",
       "      <td>NaN</td>\n",
       "      <td>NaN</td>\n",
       "      <td>4.0</td>\n",
       "      <td>NaN</td>\n",
       "      <td>...</td>\n",
       "      <td>NaN</td>\n",
       "      <td>NaN</td>\n",
       "      <td>NaN</td>\n",
       "      <td>NaN</td>\n",
       "      <td>NaN</td>\n",
       "      <td>NaN</td>\n",
       "      <td>NaN</td>\n",
       "      <td>NaN</td>\n",
       "      <td>NaN</td>\n",
       "      <td>NaN</td>\n",
       "    </tr>\n",
       "    <tr>\n",
       "      <th>79</th>\n",
       "      <td>NaN</td>\n",
       "      <td>NaN</td>\n",
       "      <td>NaN</td>\n",
       "      <td>NaN</td>\n",
       "      <td>NaN</td>\n",
       "      <td>4.0</td>\n",
       "      <td>NaN</td>\n",
       "      <td>NaN</td>\n",
       "      <td>3.0</td>\n",
       "      <td>NaN</td>\n",
       "      <td>...</td>\n",
       "      <td>NaN</td>\n",
       "      <td>NaN</td>\n",
       "      <td>NaN</td>\n",
       "      <td>NaN</td>\n",
       "      <td>NaN</td>\n",
       "      <td>NaN</td>\n",
       "      <td>NaN</td>\n",
       "      <td>NaN</td>\n",
       "      <td>4.0</td>\n",
       "      <td>NaN</td>\n",
       "    </tr>\n",
       "    <tr>\n",
       "      <th>97</th>\n",
       "      <td>NaN</td>\n",
       "      <td>NaN</td>\n",
       "      <td>NaN</td>\n",
       "      <td>NaN</td>\n",
       "      <td>4.0</td>\n",
       "      <td>NaN</td>\n",
       "      <td>NaN</td>\n",
       "      <td>NaN</td>\n",
       "      <td>NaN</td>\n",
       "      <td>4.0</td>\n",
       "      <td>...</td>\n",
       "      <td>NaN</td>\n",
       "      <td>NaN</td>\n",
       "      <td>NaN</td>\n",
       "      <td>NaN</td>\n",
       "      <td>NaN</td>\n",
       "      <td>NaN</td>\n",
       "      <td>NaN</td>\n",
       "      <td>NaN</td>\n",
       "      <td>NaN</td>\n",
       "      <td>NaN</td>\n",
       "    </tr>\n",
       "  </tbody>\n",
       "</table>\n",
       "<p>5 rows × 1322 columns</p>\n",
       "</div>"
      ],
      "text/plain": [
       "Movie_Id  3     11    12    15    16    17    21    22    24    25    ...  \\\n",
       "Cust_Id                                                               ...   \n",
       "6          NaN   4.0   NaN   NaN   NaN   NaN   NaN   NaN   4.0   NaN  ...   \n",
       "7          NaN   NaN   NaN   NaN   5.0   5.0   4.0   NaN   NaN   5.0  ...   \n",
       "10         NaN   NaN   NaN   NaN   NaN   NaN   NaN   NaN   4.0   NaN  ...   \n",
       "79         NaN   NaN   NaN   NaN   NaN   4.0   NaN   NaN   3.0   NaN  ...   \n",
       "97         NaN   NaN   NaN   NaN   4.0   NaN   NaN   NaN   NaN   4.0  ...   \n",
       "\n",
       "Movie_Id  4363  4374  4376  4384  4389  4391  4394  4395  4397  4402  \n",
       "Cust_Id                                                               \n",
       "6          NaN   NaN   NaN   NaN   NaN   NaN   NaN   NaN   NaN   NaN  \n",
       "7          NaN   NaN   NaN   NaN   NaN   NaN   NaN   NaN   3.0   NaN  \n",
       "10         NaN   NaN   NaN   NaN   NaN   NaN   NaN   NaN   NaN   NaN  \n",
       "79         NaN   NaN   NaN   NaN   NaN   NaN   NaN   NaN   4.0   NaN  \n",
       "97         NaN   NaN   NaN   NaN   NaN   NaN   NaN   NaN   NaN   NaN  \n",
       "\n",
       "[5 rows x 1322 columns]"
      ]
     },
     "execution_count": 83,
     "metadata": {},
     "output_type": "execute_result"
    }
   ],
   "source": [
    "df_p.head()\n"
   ]
  },
  {
   "cell_type": "code",
   "execution_count": 41,
   "metadata": {},
   "outputs": [
    {
     "data": {
      "text/html": [
       "<div>\n",
       "<style scoped>\n",
       "    .dataframe tbody tr th:only-of-type {\n",
       "        vertical-align: middle;\n",
       "    }\n",
       "\n",
       "    .dataframe tbody tr th {\n",
       "        vertical-align: top;\n",
       "    }\n",
       "\n",
       "    .dataframe thead th {\n",
       "        text-align: right;\n",
       "    }\n",
       "</style>\n",
       "<table border=\"1\" class=\"dataframe\">\n",
       "  <thead>\n",
       "    <tr style=\"text-align: right;\">\n",
       "      <th></th>\n",
       "      <th>Movie_Id</th>\n",
       "      <th>ReleaseYear</th>\n",
       "      <th>MovieName</th>\n",
       "    </tr>\n",
       "  </thead>\n",
       "  <tbody>\n",
       "    <tr>\n",
       "      <th>0</th>\n",
       "      <td>1</td>\n",
       "      <td>2003.0</td>\n",
       "      <td>Dinosaur Planet</td>\n",
       "    </tr>\n",
       "    <tr>\n",
       "      <th>1</th>\n",
       "      <td>2</td>\n",
       "      <td>2004.0</td>\n",
       "      <td>Isle of Man TT 2004 Review</td>\n",
       "    </tr>\n",
       "    <tr>\n",
       "      <th>2</th>\n",
       "      <td>3</td>\n",
       "      <td>1997.0</td>\n",
       "      <td>Character</td>\n",
       "    </tr>\n",
       "    <tr>\n",
       "      <th>3</th>\n",
       "      <td>4</td>\n",
       "      <td>1994.0</td>\n",
       "      <td>Paula Abdul's Get Up &amp; Dance</td>\n",
       "    </tr>\n",
       "    <tr>\n",
       "      <th>4</th>\n",
       "      <td>5</td>\n",
       "      <td>2004.0</td>\n",
       "      <td>The Rise and Fall of ECW</td>\n",
       "    </tr>\n",
       "    <tr>\n",
       "      <th>...</th>\n",
       "      <td>...</td>\n",
       "      <td>...</td>\n",
       "      <td>...</td>\n",
       "    </tr>\n",
       "    <tr>\n",
       "      <th>95</th>\n",
       "      <td>96</td>\n",
       "      <td>2000.0</td>\n",
       "      <td>Inside the Space Station</td>\n",
       "    </tr>\n",
       "    <tr>\n",
       "      <th>96</th>\n",
       "      <td>97</td>\n",
       "      <td>2002.0</td>\n",
       "      <td>Mostly Martha</td>\n",
       "    </tr>\n",
       "    <tr>\n",
       "      <th>97</th>\n",
       "      <td>98</td>\n",
       "      <td>1965.0</td>\n",
       "      <td>The Battle of Algiers: Bonus Material</td>\n",
       "    </tr>\n",
       "    <tr>\n",
       "      <th>98</th>\n",
       "      <td>99</td>\n",
       "      <td>1989.0</td>\n",
       "      <td>A Fishy Story</td>\n",
       "    </tr>\n",
       "    <tr>\n",
       "      <th>99</th>\n",
       "      <td>100</td>\n",
       "      <td>1993.0</td>\n",
       "      <td>Sam the Iron Bridge</td>\n",
       "    </tr>\n",
       "  </tbody>\n",
       "</table>\n",
       "<p>100 rows × 3 columns</p>\n",
       "</div>"
      ],
      "text/plain": [
       "    Movie_Id  ReleaseYear                              MovieName\n",
       "0          1       2003.0                        Dinosaur Planet\n",
       "1          2       2004.0             Isle of Man TT 2004 Review\n",
       "2          3       1997.0                              Character\n",
       "3          4       1994.0           Paula Abdul's Get Up & Dance\n",
       "4          5       2004.0               The Rise and Fall of ECW\n",
       "..       ...          ...                                    ...\n",
       "95        96       2000.0               Inside the Space Station\n",
       "96        97       2002.0                          Mostly Martha\n",
       "97        98       1965.0  The Battle of Algiers: Bonus Material\n",
       "98        99       1989.0                          A Fishy Story\n",
       "99       100       1993.0                    Sam the Iron Bridge\n",
       "\n",
       "[100 rows x 3 columns]"
      ]
     },
     "execution_count": 41,
     "metadata": {},
     "output_type": "execute_result"
    }
   ],
   "source": [
    "movieData = pd.read_csv(\"D:\\\\netflix dataset\\\\netflix-prize-data\\\\movie_titles.csv\", encoding=\"ISO-8859-1\",\n",
    "                        header=None, names=['Movie_Id', 'ReleaseYear', 'MovieName'] , usecols=[0, 1, 2])\n",
    "movieData.head(100)"
   ]
  },
  {
   "cell_type": "code",
   "execution_count": 45,
   "metadata": {},
   "outputs": [
    {
     "data": {
      "text/plain": [
       "{'test_rmse': array([0.83698179, 0.83720805, 0.83779665, 0.83694197, 0.83720677]),\n",
       " 'test_mae': array([0.64944896, 0.64930311, 0.64996931, 0.64907905, 0.64939165]),\n",
       " 'fit_time': (267.89942502975464,\n",
       "  275.9518699645996,\n",
       "  275.8473930358887,\n",
       "  276.0646479129791,\n",
       "  276.8676884174347),\n",
       " 'test_time': (109.97044372558594,\n",
       "  80.90992021560669,\n",
       "  93.02057886123657,\n",
       "  81.08875894546509,\n",
       "  81.70408368110657)}"
      ]
     },
     "execution_count": 45,
     "metadata": {},
     "output_type": "execute_result"
    }
   ],
   "source": [
    "reader = Reader()\n",
    "\n",
    "# get just top 100K rows for faster run time\n",
    "data = Dataset.load_from_df(df[['Cust_Id', 'Movie_Id', 'Rating']][:], reader)\n",
    "#data.split(n_folds=3)\n",
    "\n",
    "svd = SVD()\n",
    "cross_validate(svd, data, measures=['RMSE', 'MAE'])\n"
   ]
  },
  {
   "cell_type": "code",
   "execution_count": 48,
   "metadata": {},
   "outputs": [
    {
     "name": "stdout",
     "output_type": "stream",
     "text": [
      "Movie_Id\n",
      "11                                   My Favorite Brunette\n",
      "24          Inspector Morse 31: Death Is Now My Neighbour\n",
      "213                      Read-Along: Beauty and the Beast\n",
      "417                                              The Deal\n",
      "597                             Bobby Darin: Mack is Back\n",
      "683                                 Visitors of the Night\n",
      "825                            Goosebumps: Cry of the Cat\n",
      "842                                        Mansfield Park\n",
      "873       Elvis Costello & the Imposters: Live in Memphis\n",
      "887                                 Discovering Australia\n",
      "907                                 Sense and Sensibility\n",
      "913                                    R.E.M.: Road Movie\n",
      "935                A Dangerous Man: Lawrence After Arabia\n",
      "945                              Sex and the Teenage Mind\n",
      "975                     Tom and Jerry: Paws for a Holiday\n",
      "991                                           The Cowboys\n",
      "1043                                            The Party\n",
      "1115                                              Runaway\n",
      "1183                                     The Wizard of Oz\n",
      "1217                                               Frenzy\n",
      "1251                                       The Story of O\n",
      "1254                                      Better Off Dead\n",
      "1303                                           Moon Child\n",
      "1324                                         Por La Libre\n",
      "1458                                          Dark Asylum\n",
      "1502                                            The Boxer\n",
      "1594                                        The Third Man\n",
      "1616                                             Renegade\n",
      "1697                                   Escape from Alaska\n",
      "1972                          Diff'rent Strokes: Season 1\n",
      "2057                    Eminem: The Slim Shady Show Uncut\n",
      "2227                VeggieTales: The Ballad of Little Joe\n",
      "2685                              Shiloh 2: Shiloh Season\n",
      "2780                                      SD Gundam Force\n",
      "2875                                     Addicted to Love\n",
      "2898                                        Riding Giants\n",
      "2939                                             Existenz\n",
      "3010                                     Danny in the Sky\n",
      "3237                          Rage: 20 Years of Punk Rock\n",
      "3238                    The Princess Diaries (Fullscreen)\n",
      "3473                                        Lonely Hearts\n",
      "3545                                          Speed Racer\n",
      "3820                                           Transfixed\n",
      "3844                                      Desperate Souls\n",
      "4045              All Creatures Great and Small: Series 5\n",
      "4101                                            Testament\n",
      "4107                           Steamroller and the Violin\n",
      "4115      Orson Welles: The Stranger/Orson Welles on Film\n",
      "4193            Eric Clapton: Sessions for Robert Johnson\n",
      "4224                                                 Life\n",
      "4260                                      Without a Trace\n",
      "4264    National Geographic: Vietnam's Unseen War: Pic...\n",
      "4397                                            Home Room\n",
      "Name: MovieName, dtype: object\n"
     ]
    }
   ],
   "source": [
    "df_785314 = df[(df['Cust_Id'] == 785314) & (df['Rating'] == 5)]\n",
    "df_785314 = df_785314.set_index('Movie_Id')\n",
    "df_785314 = df_785314.join(movieData)['MovieName']\n",
    "print(df_785314)\n"
   ]
  },
  {
   "cell_type": "code",
   "execution_count": 66,
   "metadata": {},
   "outputs": [
    {
     "name": "stdout",
     "output_type": "stream",
     "text": [
      "      index  ReleaseYear                              MovieName  \\\n",
      "1374   1374       2002.0                           Food of Love   \n",
      "872     872       2003.0                 Boys Life 4: Four Play   \n",
      "2779   2779       1998.0                              Dark City   \n",
      "179     179       2002.0                                Scratch   \n",
      "934     934       2003.0                            Read Or Die   \n",
      "3819   3819       2002.0                      Between Strangers   \n",
      "1593   1593       1962.0                       Damn the Defiant   \n",
      "3219   3219       2001.0  Xena: Warrior Princess: Series Finale   \n",
      "188     188       1982.0                Airplane II: The Sequel   \n",
      "3797   3797       1973.0                              The Sting   \n",
      "\n",
      "      Estimate_Score  \n",
      "1374        4.737913  \n",
      "872         4.711479  \n",
      "2779        4.701343  \n",
      "179         4.696545  \n",
      "934         4.695050  \n",
      "3819        4.665386  \n",
      "1593        4.618023  \n",
      "3219        4.602311  \n",
      "188         4.542947  \n",
      "3797        4.526017  \n"
     ]
    }
   ],
   "source": [
    "user_785314 = movieData.copy()\n",
    "user_785314 = user_785314.reset_index()\n",
    "user_785314 = user_785314[~user_785314['Movie_Id'].isin(drop_movie_list)]\n",
    "\n",
    "# getting full dataset\n",
    "data = Dataset.load_from_df(df[['Cust_Id', 'Movie_Id', 'Rating']], reader)\n",
    "\n",
    "trainset = data.build_full_trainset()\n",
    "svd.fit(trainset)\n",
    "\n",
    "user_785314['Estimate_Score'] = user_785314['Movie_Id'].apply(\n",
    "    lambda x: svd.predict(785314, x).est)\n",
    "\n",
    "user_785314 = user_785314.drop('Movie_Id', axis=1)\n",
    "\n",
    "user_785314 = user_785314.sort_values('Estimate_Score', ascending=False)\n",
    "print(user_785314.head(10))\n"
   ]
  },
  {
   "cell_type": "code",
   "execution_count": 73,
   "metadata": {},
   "outputs": [],
   "source": [
    "def recommend(movie_title, min_count):\n",
    "    print(\"For movie ({})\".format(movie_title))\n",
    "    print(\"- Top 10 movies recommended based on Pearsons'R correlation - \")\n",
    "    i = int(movieData.index[movieData['MovieName'] == movie_title][0])\n",
    "    print(i)\n",
    "    target = df_p[i]\n",
    "    similar_to_target = df_p.corrwith(target)\n",
    "    corr_target = pd.DataFrame(similar_to_target, columns = ['PearsonR'])\n",
    "    corr_target.dropna(inplace = True)\n",
    "    corr_target = corr_target.sort_values('PearsonR', ascending = False)\n",
    "    corr_target.index = corr_target.index.map(int)\n",
    "    corr_target = corr_target.join(movieData).join(df_movie_summary)[\n",
    "        ['PearsonR', 'MovieName', 'count', 'mean']]\n",
    "    print(corr_target[corr_target['count']>min_count][:10].to_string(index=False))"
   ]
  },
  {
   "cell_type": "code",
   "execution_count": 78,
   "metadata": {},
   "outputs": [
    {
     "name": "stdout",
     "output_type": "stream",
     "text": [
      "For movie (Justice League)\n",
      "- Top 10 movies recommended based on Pearsons'R correlation - \n",
      "47\n"
     ]
    },
    {
     "ename": "KeyError",
     "evalue": "47",
     "output_type": "error",
     "traceback": [
      "\u001b[1;31m---------------------------------------------------------------------------\u001b[0m",
      "\u001b[1;31mKeyError\u001b[0m                                  Traceback (most recent call last)",
      "File \u001b[1;32mc:\\Users\\user\\.conda\\envs\\tensor01\\lib\\site-packages\\pandas\\core\\indexes\\base.py:3621\u001b[0m, in \u001b[0;36mIndex.get_loc\u001b[1;34m(self, key, method, tolerance)\u001b[0m\n\u001b[0;32m   3620\u001b[0m \u001b[39mtry\u001b[39;00m:\n\u001b[1;32m-> 3621\u001b[0m     \u001b[39mreturn\u001b[39;00m \u001b[39mself\u001b[39;49m\u001b[39m.\u001b[39;49m_engine\u001b[39m.\u001b[39;49mget_loc(casted_key)\n\u001b[0;32m   3622\u001b[0m \u001b[39mexcept\u001b[39;00m \u001b[39mKeyError\u001b[39;00m \u001b[39mas\u001b[39;00m err:\n",
      "File \u001b[1;32mc:\\Users\\user\\.conda\\envs\\tensor01\\lib\\site-packages\\pandas\\_libs\\index.pyx:136\u001b[0m, in \u001b[0;36mpandas._libs.index.IndexEngine.get_loc\u001b[1;34m()\u001b[0m\n",
      "File \u001b[1;32mc:\\Users\\user\\.conda\\envs\\tensor01\\lib\\site-packages\\pandas\\_libs\\index.pyx:163\u001b[0m, in \u001b[0;36mpandas._libs.index.IndexEngine.get_loc\u001b[1;34m()\u001b[0m\n",
      "File \u001b[1;32mpandas\\_libs\\hashtable_class_helper.pxi:2131\u001b[0m, in \u001b[0;36mpandas._libs.hashtable.Int64HashTable.get_item\u001b[1;34m()\u001b[0m\n",
      "File \u001b[1;32mpandas\\_libs\\hashtable_class_helper.pxi:2140\u001b[0m, in \u001b[0;36mpandas._libs.hashtable.Int64HashTable.get_item\u001b[1;34m()\u001b[0m\n",
      "\u001b[1;31mKeyError\u001b[0m: 47",
      "\nThe above exception was the direct cause of the following exception:\n",
      "\u001b[1;31mKeyError\u001b[0m                                  Traceback (most recent call last)",
      "\u001b[1;32mc:\\Users\\user\\Desktop\\netflix- recommender-system\\recommender-system.ipynb Cell 17\u001b[0m in \u001b[0;36m<cell line: 8>\u001b[1;34m()\u001b[0m\n\u001b[0;32m      <a href='vscode-notebook-cell:/c%3A/Users/user/Desktop/netflix-%20recommender-system/recommender-system.ipynb#X25sZmlsZQ%3D%3D?line=0'>1</a>\u001b[0m \u001b[39m# recommend(\"What the #$*! Do We Know!?\", 0)\u001b[39;00m\n\u001b[0;32m      <a href='vscode-notebook-cell:/c%3A/Users/user/Desktop/netflix-%20recommender-system/recommender-system.ipynb#X25sZmlsZQ%3D%3D?line=1'>2</a>\u001b[0m \n\u001b[0;32m      <a href='vscode-notebook-cell:/c%3A/Users/user/Desktop/netflix-%20recommender-system/recommender-system.ipynb#X25sZmlsZQ%3D%3D?line=2'>3</a>\u001b[0m \u001b[39m# # recommend(\"X2: X-Men United\", 0)\u001b[39;00m\n\u001b[0;32m      <a href='vscode-notebook-cell:/c%3A/Users/user/Desktop/netflix-%20recommender-system/recommender-system.ipynb#X25sZmlsZQ%3D%3D?line=3'>4</a>\u001b[0m \u001b[39m# recommend(\"Renegade\", 0)\u001b[39;00m\n\u001b[0;32m      <a href='vscode-notebook-cell:/c%3A/Users/user/Desktop/netflix-%20recommender-system/recommender-system.ipynb#X25sZmlsZQ%3D%3D?line=4'>5</a>\u001b[0m \n\u001b[0;32m      <a href='vscode-notebook-cell:/c%3A/Users/user/Desktop/netflix-%20recommender-system/recommender-system.ipynb#X25sZmlsZQ%3D%3D?line=5'>6</a>\u001b[0m \u001b[39m# recommend(\"Batman Begins\", 0)\u001b[39;00m\n\u001b[1;32m----> <a href='vscode-notebook-cell:/c%3A/Users/user/Desktop/netflix-%20recommender-system/recommender-system.ipynb#X25sZmlsZQ%3D%3D?line=7'>8</a>\u001b[0m recommend(\u001b[39m\"\u001b[39;49m\u001b[39mJustice League\u001b[39;49m\u001b[39m\"\u001b[39;49m, \u001b[39m0\u001b[39;49m)\n",
      "\u001b[1;32mc:\\Users\\user\\Desktop\\netflix- recommender-system\\recommender-system.ipynb Cell 17\u001b[0m in \u001b[0;36mrecommend\u001b[1;34m(movie_title, min_count)\u001b[0m\n\u001b[0;32m      <a href='vscode-notebook-cell:/c%3A/Users/user/Desktop/netflix-%20recommender-system/recommender-system.ipynb#X25sZmlsZQ%3D%3D?line=3'>4</a>\u001b[0m i \u001b[39m=\u001b[39m \u001b[39mint\u001b[39m(movieData\u001b[39m.\u001b[39mindex[movieData[\u001b[39m'\u001b[39m\u001b[39mMovieName\u001b[39m\u001b[39m'\u001b[39m] \u001b[39m==\u001b[39m movie_title][\u001b[39m0\u001b[39m])\n\u001b[0;32m      <a href='vscode-notebook-cell:/c%3A/Users/user/Desktop/netflix-%20recommender-system/recommender-system.ipynb#X25sZmlsZQ%3D%3D?line=4'>5</a>\u001b[0m \u001b[39mprint\u001b[39m(i)\n\u001b[1;32m----> <a href='vscode-notebook-cell:/c%3A/Users/user/Desktop/netflix-%20recommender-system/recommender-system.ipynb#X25sZmlsZQ%3D%3D?line=5'>6</a>\u001b[0m target \u001b[39m=\u001b[39m df_p[i]\n\u001b[0;32m      <a href='vscode-notebook-cell:/c%3A/Users/user/Desktop/netflix-%20recommender-system/recommender-system.ipynb#X25sZmlsZQ%3D%3D?line=6'>7</a>\u001b[0m similar_to_target \u001b[39m=\u001b[39m df_p\u001b[39m.\u001b[39mcorrwith(target)\n\u001b[0;32m      <a href='vscode-notebook-cell:/c%3A/Users/user/Desktop/netflix-%20recommender-system/recommender-system.ipynb#X25sZmlsZQ%3D%3D?line=7'>8</a>\u001b[0m corr_target \u001b[39m=\u001b[39m pd\u001b[39m.\u001b[39mDataFrame(similar_to_target, columns \u001b[39m=\u001b[39m [\u001b[39m'\u001b[39m\u001b[39mPearsonR\u001b[39m\u001b[39m'\u001b[39m])\n",
      "File \u001b[1;32mc:\\Users\\user\\.conda\\envs\\tensor01\\lib\\site-packages\\pandas\\core\\frame.py:3505\u001b[0m, in \u001b[0;36mDataFrame.__getitem__\u001b[1;34m(self, key)\u001b[0m\n\u001b[0;32m   3503\u001b[0m \u001b[39mif\u001b[39;00m \u001b[39mself\u001b[39m\u001b[39m.\u001b[39mcolumns\u001b[39m.\u001b[39mnlevels \u001b[39m>\u001b[39m \u001b[39m1\u001b[39m:\n\u001b[0;32m   3504\u001b[0m     \u001b[39mreturn\u001b[39;00m \u001b[39mself\u001b[39m\u001b[39m.\u001b[39m_getitem_multilevel(key)\n\u001b[1;32m-> 3505\u001b[0m indexer \u001b[39m=\u001b[39m \u001b[39mself\u001b[39;49m\u001b[39m.\u001b[39;49mcolumns\u001b[39m.\u001b[39;49mget_loc(key)\n\u001b[0;32m   3506\u001b[0m \u001b[39mif\u001b[39;00m is_integer(indexer):\n\u001b[0;32m   3507\u001b[0m     indexer \u001b[39m=\u001b[39m [indexer]\n",
      "File \u001b[1;32mc:\\Users\\user\\.conda\\envs\\tensor01\\lib\\site-packages\\pandas\\core\\indexes\\base.py:3623\u001b[0m, in \u001b[0;36mIndex.get_loc\u001b[1;34m(self, key, method, tolerance)\u001b[0m\n\u001b[0;32m   3621\u001b[0m     \u001b[39mreturn\u001b[39;00m \u001b[39mself\u001b[39m\u001b[39m.\u001b[39m_engine\u001b[39m.\u001b[39mget_loc(casted_key)\n\u001b[0;32m   3622\u001b[0m \u001b[39mexcept\u001b[39;00m \u001b[39mKeyError\u001b[39;00m \u001b[39mas\u001b[39;00m err:\n\u001b[1;32m-> 3623\u001b[0m     \u001b[39mraise\u001b[39;00m \u001b[39mKeyError\u001b[39;00m(key) \u001b[39mfrom\u001b[39;00m \u001b[39merr\u001b[39;00m\n\u001b[0;32m   3624\u001b[0m \u001b[39mexcept\u001b[39;00m \u001b[39mTypeError\u001b[39;00m:\n\u001b[0;32m   3625\u001b[0m     \u001b[39m# If we have a listlike key, _check_indexing_error will raise\u001b[39;00m\n\u001b[0;32m   3626\u001b[0m     \u001b[39m#  InvalidIndexError. Otherwise we fall through and re-raise\u001b[39;00m\n\u001b[0;32m   3627\u001b[0m     \u001b[39m#  the TypeError.\u001b[39;00m\n\u001b[0;32m   3628\u001b[0m     \u001b[39mself\u001b[39m\u001b[39m.\u001b[39m_check_indexing_error(key)\n",
      "\u001b[1;31mKeyError\u001b[0m: 47"
     ]
    }
   ],
   "source": [
    "# recommend(\"What the #$*! Do We Know!?\", 0)\n",
    "\n",
    "# # recommend(\"X2: X-Men United\", 0)\n",
    "# recommend(\"Renegade\", 0)\n",
    "\n",
    "# recommend(\"Batman Begins\", 0)\n",
    "\n",
    "recommend(\"Justice League\", 0)\n",
    "\n"
   ]
  },
  {
   "cell_type": "code",
   "execution_count": null,
   "metadata": {},
   "outputs": [],
   "source": []
  }
 ],
 "metadata": {
  "kernelspec": {
   "display_name": "Python 3.9.12 ('tensor01')",
   "language": "python",
   "name": "python3"
  },
  "language_info": {
   "codemirror_mode": {
    "name": "ipython",
    "version": 3
   },
   "file_extension": ".py",
   "mimetype": "text/x-python",
   "name": "python",
   "nbconvert_exporter": "python",
   "pygments_lexer": "ipython3",
   "version": "3.9.12"
  },
  "orig_nbformat": 4,
  "vscode": {
   "interpreter": {
    "hash": "05f5c84e5e5f57653ee7582d937bbdc405e86860f5e761a2564c6e90b4579d90"
   }
  }
 },
 "nbformat": 4,
 "nbformat_minor": 2
}
