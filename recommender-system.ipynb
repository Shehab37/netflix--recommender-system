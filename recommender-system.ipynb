{
 "cells": [
  {
   "cell_type": "code",
   "execution_count": 125,
   "metadata": {},
   "outputs": [
    {
     "data": {
      "text/plain": [
       "24"
      ]
     },
     "execution_count": 125,
     "metadata": {},
     "output_type": "execute_result"
    }
   ],
   "source": [
    "import pandas as pd\n",
    "import numpy as np\n",
    "import re\n",
    "from datetime import datetime\n",
    "import matplotlib.pyplot as plt\n",
    "import seaborn as sns\n",
    "\n",
    "from tensorflow.keras import models, layers, utils \n",
    "from sklearn import metrics, preprocessing\n",
    "import os\n",
    "import gc\n",
    "import sys\n",
    "\n",
    "import math\n",
    "import re\n",
    "from scipy.sparse import csr_matrix\n",
    "import matplotlib.pyplot as plt\n",
    "import seaborn as sns\n",
    "from surprise import Reader, Dataset, SVD\n",
    "from surprise.model_selection import cross_validate\n",
    "sns.set_style(\"darkgrid\")\n",
    "\n",
    "gc.collect()\n"
   ]
  },
  {
   "cell_type": "markdown",
   "metadata": {},
   "source": [
    "## recommender system \n",
    "the two main functions are \n",
    "get_similar_movies(movie_title, min_ratings_count = 0)\n",
    "\n",
    "recommend_movies(user_id , n_movies= 10)\n"
   ]
  },
  {
   "cell_type": "code",
   "execution_count": 2,
   "metadata": {},
   "outputs": [],
   "source": [
    "path = \"D:\\\\netflix dataset\\\\netflix-prize-data\"\n"
   ]
  },
  {
   "cell_type": "code",
   "execution_count": 4,
   "metadata": {},
   "outputs": [
    {
     "name": "stdout",
     "output_type": "stream",
     "text": [
      "['combined_data_1.txt', 'combined_data_2.txt', 'combined_data_3.txt', 'combined_data_4.txt', 'movie_titles.csv', 'probe.txt', 'qualifying.txt', 'README']\n",
      "Reading ratings from combined_data_1.txt\n",
      "\n",
      "Time taken : 0:01:16.384216\n"
     ]
    }
   ],
   "source": [
    "start = datetime.now()\n",
    "if not os.path.isfile('data.csv'):\n",
    "    data = open('data.csv', mode='w')\n",
    "    row = list()\n",
    "    files = os.listdir(path)\n",
    "    print(files)\n",
    "    for file in files:\n",
    "        if file.startswith('combined_data'):\n",
    "        # if file.startswith('combined_data_1'):   # use this line to process only one file\n",
    "            print(\"Reading ratings from {}\\n\".format(file))\n",
    "            with open(os.path.join(path,file)) as f:\n",
    "                for line in f:\n",
    "                    line = line.strip()\n",
    "                    if line.endswith(':'):\n",
    "                        # All below are ratings for this movie, until another movie appears.\n",
    "                        movie_id = line.replace(':', '')\n",
    "                    else:\n",
    "                        row = [x for x in line.split(',')]\n",
    "                        row.insert(0, movie_id)\n",
    "                        data.write(','.join(row))\n",
    "                        data.write('\\n')\n",
    "data.close()\n",
    "print('Time taken :', datetime.now() - start)\n"
   ]
  },
  {
   "cell_type": "code",
   "execution_count": 3,
   "metadata": {},
   "outputs": [],
   "source": [
    "df = pd.read_csv('data.csv', names=['Movie_Id', 'Cust_Id', 'Rating', 'Date'])\n"
   ]
  },
  {
   "cell_type": "code",
   "execution_count": 4,
   "metadata": {},
   "outputs": [
    {
     "data": {
      "text/html": [
       "<div>\n",
       "<style scoped>\n",
       "    .dataframe tbody tr th:only-of-type {\n",
       "        vertical-align: middle;\n",
       "    }\n",
       "\n",
       "    .dataframe tbody tr th {\n",
       "        vertical-align: top;\n",
       "    }\n",
       "\n",
       "    .dataframe thead th {\n",
       "        text-align: right;\n",
       "    }\n",
       "</style>\n",
       "<table border=\"1\" class=\"dataframe\">\n",
       "  <thead>\n",
       "    <tr style=\"text-align: right;\">\n",
       "      <th></th>\n",
       "      <th>Movie_Id</th>\n",
       "      <th>Cust_Id</th>\n",
       "      <th>Rating</th>\n",
       "      <th>Date</th>\n",
       "    </tr>\n",
       "  </thead>\n",
       "  <tbody>\n",
       "    <tr>\n",
       "      <th>0</th>\n",
       "      <td>1</td>\n",
       "      <td>1488844</td>\n",
       "      <td>3</td>\n",
       "      <td>2005-09-06</td>\n",
       "    </tr>\n",
       "    <tr>\n",
       "      <th>1</th>\n",
       "      <td>1</td>\n",
       "      <td>822109</td>\n",
       "      <td>5</td>\n",
       "      <td>2005-05-13</td>\n",
       "    </tr>\n",
       "    <tr>\n",
       "      <th>2</th>\n",
       "      <td>1</td>\n",
       "      <td>885013</td>\n",
       "      <td>4</td>\n",
       "      <td>2005-10-19</td>\n",
       "    </tr>\n",
       "    <tr>\n",
       "      <th>3</th>\n",
       "      <td>1</td>\n",
       "      <td>30878</td>\n",
       "      <td>4</td>\n",
       "      <td>2005-12-26</td>\n",
       "    </tr>\n",
       "    <tr>\n",
       "      <th>4</th>\n",
       "      <td>1</td>\n",
       "      <td>823519</td>\n",
       "      <td>3</td>\n",
       "      <td>2004-05-03</td>\n",
       "    </tr>\n",
       "  </tbody>\n",
       "</table>\n",
       "</div>"
      ],
      "text/plain": [
       "   Movie_Id  Cust_Id  Rating        Date\n",
       "0         1  1488844       3  2005-09-06\n",
       "1         1   822109       5  2005-05-13\n",
       "2         1   885013       4  2005-10-19\n",
       "3         1    30878       4  2005-12-26\n",
       "4         1   823519       3  2004-05-03"
      ]
     },
     "execution_count": 4,
     "metadata": {},
     "output_type": "execute_result"
    }
   ],
   "source": [
    "df.head()\n"
   ]
  },
  {
   "cell_type": "code",
   "execution_count": 5,
   "metadata": {},
   "outputs": [
    {
     "name": "stdout",
     "output_type": "stream",
     "text": [
      "<class 'pandas.core.frame.DataFrame'>\n",
      "RangeIndex: 100480507 entries, 0 to 100480506\n",
      "Data columns (total 4 columns):\n",
      " #   Column    Dtype \n",
      "---  ------    ----- \n",
      " 0   Movie_Id  int64 \n",
      " 1   Cust_Id   int64 \n",
      " 2   Rating    int64 \n",
      " 3   Date      object\n",
      "dtypes: int64(3), object(1)\n",
      "memory usage: 3.0+ GB\n"
     ]
    }
   ],
   "source": [
    "df.info()"
   ]
  },
  {
   "cell_type": "code",
   "execution_count": 6,
   "metadata": {},
   "outputs": [
    {
     "name": "stdout",
     "output_type": "stream",
     "text": [
      "<class 'pandas.core.frame.DataFrame'>\n",
      "RangeIndex: 100480507 entries, 0 to 100480506\n",
      "Data columns (total 3 columns):\n",
      " #   Column    Dtype \n",
      "---  ------    ----- \n",
      " 0   Movie_Id  uint32\n",
      " 1   Cust_Id   uint32\n",
      " 2   Rating    uint8 \n",
      "dtypes: uint32(2), uint8(1)\n",
      "memory usage: 862.4 MB\n"
     ]
    }
   ],
   "source": [
    "df['Movie_Id'] = df['Movie_Id'].astype(np.uint32)\n",
    "df['Cust_Id'] = df['Cust_Id'].astype(np.uint32)\n",
    "df['Rating'] = df['Rating'].astype(np.uint8)\n",
    "df.drop(['Date'], axis=1, inplace=True)\n",
    "df.info()\n"
   ]
  },
  {
   "cell_type": "code",
   "execution_count": 64,
   "metadata": {},
   "outputs": [
    {
     "name": "stdout",
     "output_type": "stream",
     "text": [
      "Movie minimum times of review: 12331.0\n",
      "Customer minimum times of review: 550.0\n",
      "Original Shape: (71833509, 3)\n",
      "After Trim Shape: (27358794, 3)\n",
      "number of movies deleted is  3732\n",
      "number of customers deleted is  101012\n"
     ]
    }
   ],
   "source": [
    "f = ['count', 'mean']\n",
    "\n",
    "df_movie_summary = df.groupby('Movie_Id')['Rating'].agg(f)\n",
    "df_movie_summary.index = df_movie_summary.index.map(int)\n",
    "movie_benchmark = round(df_movie_summary['count'].quantile(0.7), 0)\n",
    "drop_movie_list = df_movie_summary[df_movie_summary['count']\n",
    "                                   < movie_benchmark].index\n",
    "\n",
    "print('Movie minimum times of review: {}'.format(movie_benchmark))\n",
    "\n",
    "df_cust_summary = df.groupby('Cust_Id')['Rating'].agg(f)\n",
    "df_cust_summary.index = df_cust_summary.index.map(int)\n",
    "cust_benchmark = round(df_cust_summary['count'].quantile(0.7), 0)\n",
    "drop_cust_list = df_cust_summary[df_cust_summary['count']\n",
    "                                 < cust_benchmark].index\n",
    "\n",
    "print('Customer minimum times of review: {}'.format(cust_benchmark))\n",
    "\n",
    "print('Original Shape: {}'.format(df.shape))\n",
    "df = df[~df['Movie_Id'].isin(drop_movie_list)]\n",
    "df = df[~df['Cust_Id'].isin(drop_cust_list)]\n",
    "print('After Trim Shape: {}'.format(df.shape))\n",
    "\n",
    "\n",
    "print(\"number of movies deleted is \" , len(drop_movie_list))\n",
    "print(\"number of customers deleted is \" , len(drop_cust_list))"
   ]
  },
  {
   "cell_type": "code",
   "execution_count": 8,
   "metadata": {},
   "outputs": [
    {
     "name": "stdout",
     "output_type": "stream",
     "text": [
      "<class 'pandas.core.frame.DataFrame'>\n",
      "Int64Index: 71833509 entries, 693 to 100479585\n",
      "Data columns (total 3 columns):\n",
      " #   Column    Dtype \n",
      "---  ------    ----- \n",
      " 0   Movie_Id  uint32\n",
      " 1   Cust_Id   uint32\n",
      " 2   Rating    uint8 \n",
      "dtypes: uint32(2), uint8(1)\n",
      "memory usage: 1.1 GB\n"
     ]
    }
   ],
   "source": [
    "# del df_cust_summary, df_movie_summary, drop_movie_list, drop_cust_list\n",
    "gc.collect()\n",
    "df.info()\n"
   ]
  },
  {
   "cell_type": "code",
   "execution_count": 108,
   "metadata": {},
   "outputs": [
    {
     "data": {
      "text/html": [
       "<div>\n",
       "<style scoped>\n",
       "    .dataframe tbody tr th:only-of-type {\n",
       "        vertical-align: middle;\n",
       "    }\n",
       "\n",
       "    .dataframe tbody tr th {\n",
       "        vertical-align: top;\n",
       "    }\n",
       "\n",
       "    .dataframe thead th {\n",
       "        text-align: right;\n",
       "    }\n",
       "</style>\n",
       "<table border=\"1\" class=\"dataframe\">\n",
       "  <thead>\n",
       "    <tr style=\"text-align: right;\">\n",
       "      <th></th>\n",
       "      <th>Year</th>\n",
       "      <th>Name</th>\n",
       "    </tr>\n",
       "    <tr>\n",
       "      <th>Movie_Id</th>\n",
       "      <th></th>\n",
       "      <th></th>\n",
       "    </tr>\n",
       "  </thead>\n",
       "  <tbody>\n",
       "    <tr>\n",
       "      <th>1</th>\n",
       "      <td>2003</td>\n",
       "      <td>Dinosaur Planet</td>\n",
       "    </tr>\n",
       "    <tr>\n",
       "      <th>2</th>\n",
       "      <td>2004</td>\n",
       "      <td>Isle of Man TT 2004 Review</td>\n",
       "    </tr>\n",
       "    <tr>\n",
       "      <th>3</th>\n",
       "      <td>1997</td>\n",
       "      <td>Character</td>\n",
       "    </tr>\n",
       "    <tr>\n",
       "      <th>4</th>\n",
       "      <td>1994</td>\n",
       "      <td>Paula Abdul's Get Up &amp; Dance</td>\n",
       "    </tr>\n",
       "    <tr>\n",
       "      <th>5</th>\n",
       "      <td>2004</td>\n",
       "      <td>The Rise and Fall of ECW</td>\n",
       "    </tr>\n",
       "    <tr>\n",
       "      <th>6</th>\n",
       "      <td>1997</td>\n",
       "      <td>Sick</td>\n",
       "    </tr>\n",
       "    <tr>\n",
       "      <th>7</th>\n",
       "      <td>1992</td>\n",
       "      <td>8 Man</td>\n",
       "    </tr>\n",
       "    <tr>\n",
       "      <th>8</th>\n",
       "      <td>2004</td>\n",
       "      <td>What the #$*! Do We Know!?</td>\n",
       "    </tr>\n",
       "    <tr>\n",
       "      <th>9</th>\n",
       "      <td>1991</td>\n",
       "      <td>Class of Nuke 'Em High 2</td>\n",
       "    </tr>\n",
       "    <tr>\n",
       "      <th>10</th>\n",
       "      <td>2001</td>\n",
       "      <td>Fighter</td>\n",
       "    </tr>\n",
       "  </tbody>\n",
       "</table>\n",
       "</div>"
      ],
      "text/plain": [
       "          Year                          Name\n",
       "Movie_Id                                    \n",
       "1         2003               Dinosaur Planet\n",
       "2         2004    Isle of Man TT 2004 Review\n",
       "3         1997                     Character\n",
       "4         1994  Paula Abdul's Get Up & Dance\n",
       "5         2004      The Rise and Fall of ECW\n",
       "6         1997                          Sick\n",
       "7         1992                         8 Man\n",
       "8         2004    What the #$*! Do We Know!?\n",
       "9         1991      Class of Nuke 'Em High 2\n",
       "10        2001                       Fighter"
      ]
     },
     "execution_count": 108,
     "metadata": {},
     "output_type": "execute_result"
    }
   ],
   "source": [
    "df_title = pd.read_csv(\"D:\\\\netflix dataset\\\\netflix-prize-data\\\\movie_titles.csv\", encoding=\"ISO-8859-1\",\n",
    "                        header=None, names=['Movie_Id', 'Year', 'Name'], usecols=[0, 1, 2])\n",
    "df_title.set_index('Movie_Id', inplace=True)\n",
    "df_title['Year'].fillna(0, inplace=True)\n",
    "df_title['Year'] = df_title['Year'].astype(int)\n",
    "df_title.head(10)\n"
   ]
  },
  {
   "cell_type": "code",
   "execution_count": null,
   "metadata": {},
   "outputs": [],
   "source": []
  },
  {
   "cell_type": "code",
   "execution_count": 10,
   "metadata": {},
   "outputs": [
    {
     "name": "stdout",
     "output_type": "stream",
     "text": [
      "(144380, 5332)\n"
     ]
    }
   ],
   "source": [
    "df_pivot = pd.pivot_table(df, values='Rating',\n",
    "                      index='Cust_Id', columns='Movie_Id')\n",
    "\n",
    "print(df_pivot.shape)\n"
   ]
  },
  {
   "cell_type": "code",
   "execution_count": 12,
   "metadata": {},
   "outputs": [
    {
     "name": "stdout",
     "output_type": "stream",
     "text": [
      "<class 'pandas.core.frame.DataFrame'>\n",
      "UInt64Index: 144380 entries, 6 to 2649429\n",
      "Columns: 5332 entries, 3 to 17769\n",
      "dtypes: float64(5332)\n",
      "memory usage: 5.7 GB\n"
     ]
    }
   ],
   "source": [
    "df_pivot.info()\n",
    "# nearly 6 gb of ram is used by pivot table"
   ]
  },
  {
   "cell_type": "code",
   "execution_count": 139,
   "metadata": {},
   "outputs": [],
   "source": [
    "# min count is min count of ratings given by a customer\n",
    "def get_similar_movies(movie_title, min_ratings_count=0):\n",
    "    print(\"For movie ({})\".format(movie_title))\n",
    "    print(\"- Top 10 movies recommended based on Pearsons'R correlation - \")\n",
    "    i = int(df_title.index[df_title['Name'] == movie_title][0])\n",
    "    target = df_pivot[i]\n",
    "    similar_to_target = df_pivot.corrwith(target)\n",
    "    corr_target = pd.DataFrame(similar_to_target, columns=['PearsonR'])\n",
    "    corr_target.dropna(inplace = True)\n",
    "    corr_target = corr_target.sort_values('PearsonR', ascending = False)\n",
    "    corr_target.index = corr_target.index.map(int)\n",
    "    corr_target = corr_target.join(df_title).join(df_movie_summary)[['PearsonR', 'Name', 'count', 'mean']]\n",
    "    corr_target.rename(columns={\"Name\": \"movie name\", \"count\": \"number of ratings\"  , \"mean\": \"average rating\" ,\n",
    "                                \"PearsonR\": \"Pearson correlation coefficient\"}, inplace=True)\n",
    "    \n",
    "    print(corr_target[corr_target['number of ratings']>min_ratings_count][1:11].to_string(index=False))"
   ]
  },
  {
   "cell_type": "code",
   "execution_count": 140,
   "metadata": {},
   "outputs": [
    {
     "name": "stdout",
     "output_type": "stream",
     "text": [
      "For movie (Lord of the Rings: The Fellowship of the Ring)\n",
      "- Top 10 movies recommended based on Pearsons'R correlation - \n"
     ]
    },
    {
     "ename": "NameError",
     "evalue": "name 'df_pivot' is not defined",
     "output_type": "error",
     "traceback": [
      "\u001b[1;31m---------------------------------------------------------------------------\u001b[0m",
      "\u001b[1;31mNameError\u001b[0m                                 Traceback (most recent call last)",
      "\u001b[1;32mc:\\Users\\user\\Desktop\\netflix- recommender-system\\recommender-system.ipynb Cell 16\u001b[0m in \u001b[0;36m<cell line: 1>\u001b[1;34m()\u001b[0m\n\u001b[1;32m----> <a href='vscode-notebook-cell:/c%3A/Users/user/Desktop/netflix-%20recommender-system/recommender-system.ipynb#Y114sZmlsZQ%3D%3D?line=0'>1</a>\u001b[0m get_similar_movies(\u001b[39m\"\u001b[39;49m\u001b[39mLord of the Rings: The Fellowship of the Ring\u001b[39;49m\u001b[39m\"\u001b[39;49m, \u001b[39m30000\u001b[39;49m)\n",
      "\u001b[1;32mc:\\Users\\user\\Desktop\\netflix- recommender-system\\recommender-system.ipynb Cell 16\u001b[0m in \u001b[0;36mget_similar_movies\u001b[1;34m(movie_title, min_rating_n)\u001b[0m\n\u001b[0;32m      <a href='vscode-notebook-cell:/c%3A/Users/user/Desktop/netflix-%20recommender-system/recommender-system.ipynb#Y114sZmlsZQ%3D%3D?line=3'>4</a>\u001b[0m \u001b[39mprint\u001b[39m(\u001b[39m\"\u001b[39m\u001b[39m- Top 10 movies recommended based on Pearsons\u001b[39m\u001b[39m'\u001b[39m\u001b[39mR correlation - \u001b[39m\u001b[39m\"\u001b[39m)\n\u001b[0;32m      <a href='vscode-notebook-cell:/c%3A/Users/user/Desktop/netflix-%20recommender-system/recommender-system.ipynb#Y114sZmlsZQ%3D%3D?line=4'>5</a>\u001b[0m i \u001b[39m=\u001b[39m \u001b[39mint\u001b[39m(df_title\u001b[39m.\u001b[39mindex[df_title[\u001b[39m'\u001b[39m\u001b[39mName\u001b[39m\u001b[39m'\u001b[39m] \u001b[39m==\u001b[39m movie_title][\u001b[39m0\u001b[39m])\n\u001b[1;32m----> <a href='vscode-notebook-cell:/c%3A/Users/user/Desktop/netflix-%20recommender-system/recommender-system.ipynb#Y114sZmlsZQ%3D%3D?line=5'>6</a>\u001b[0m target \u001b[39m=\u001b[39m df_pivot[i]\n\u001b[0;32m      <a href='vscode-notebook-cell:/c%3A/Users/user/Desktop/netflix-%20recommender-system/recommender-system.ipynb#Y114sZmlsZQ%3D%3D?line=6'>7</a>\u001b[0m similar_to_target \u001b[39m=\u001b[39m df_pivot\u001b[39m.\u001b[39mcorrwith(target)\n\u001b[0;32m      <a href='vscode-notebook-cell:/c%3A/Users/user/Desktop/netflix-%20recommender-system/recommender-system.ipynb#Y114sZmlsZQ%3D%3D?line=7'>8</a>\u001b[0m corr_target \u001b[39m=\u001b[39m pd\u001b[39m.\u001b[39mDataFrame(similar_to_target, columns\u001b[39m=\u001b[39m[\u001b[39m'\u001b[39m\u001b[39mPearsonR\u001b[39m\u001b[39m'\u001b[39m])\n",
      "\u001b[1;31mNameError\u001b[0m: name 'df_pivot' is not defined"
     ]
    }
   ],
   "source": [
    "get_similar_movies(\"Lord of the Rings: The Fellowship of the Ring\", 30000)\n",
    "# you can see it outputs similar movies \n"
   ]
  },
  {
   "cell_type": "code",
   "execution_count": 53,
   "metadata": {},
   "outputs": [
    {
     "name": "stdout",
     "output_type": "stream",
     "text": [
      "For movie (Fight Club)\n",
      "- Top 10 movies recommended based on Pearsons'R correlation - \n",
      " Pearson correlation coefficient                            movie name  number of ratings  average rating\n",
      "                        0.380089                            12 Monkeys              76475        3.776084\n",
      "                        0.378151                                Snatch              68818        3.848005\n",
      "                        0.364983                               Memento             127318        3.851427\n",
      "                        0.357912                          Pulp Fiction             152078        4.094235\n",
      "                        0.347596                         Trainspotting              24446        3.885953\n",
      "                        0.343847 Eternal Sunshine of the Spotless Mind             110159        3.695304\n",
      "                        0.333834                        Reservoir Dogs              90450        4.003847\n",
      "                        0.326851  The Royal Tenenbaums: Bonus Material               2452        4.015905\n",
      "                        0.325274                                 Seven              99324        4.134952\n",
      "                        0.324509                              Sin City              56147        3.597663\n",
      "For movie (Fight Club)\n",
      "- Top 10 movies recommended based on Pearsons'R correlation - \n",
      " Pearson correlation coefficient                            movie name  number of ratings  average rating\n",
      "                        0.364983                               Memento             127318        3.851427\n",
      "                        0.357912                          Pulp Fiction             152078        4.094235\n",
      "                        0.343847 Eternal Sunshine of the Spotless Mind             110159        3.695304\n",
      "                        0.333834                        Reservoir Dogs              90450        4.003847\n",
      "                        0.325274                                 Seven              99324        4.134952\n",
      "                        0.317807                       American Beauty             154832        3.962585\n",
      "                        0.310578                      The Big Lebowski              81316        3.761363\n",
      "                        0.303631                     Kill Bill: Vol. 1             140564        3.759192\n",
      "                        0.299501                          Office Space              90320        4.079318\n",
      "                        0.294644                  The Royal Tenenbaums             147251        3.279835\n"
     ]
    }
   ],
   "source": [
    "get_similar_movies(\"Fight Club\")\n",
    "get_similar_movies(\"Fight Club\", 80000)\n",
    "# here it actually ouputs movies of the same genre or the the same director\n",
    "# and min count produces better recommendations if used correctly"
   ]
  },
  {
   "cell_type": "code",
   "execution_count": 54,
   "metadata": {},
   "outputs": [
    {
     "name": "stdout",
     "output_type": "stream",
     "text": [
      "For movie (Saving Private Ryan)\n",
      "- Top 10 movies recommended based on Pearsons'R correlation - \n",
      " Pearson correlation coefficient        movie name  number of ratings  average rating\n",
      "                        0.348649   Black Hawk Down              77597        3.859608\n",
      "                        0.343554        Braveheart             135601        4.294423\n",
      "                        0.328930         Apollo 13              98116        4.082576\n",
      "                        0.321378         Gladiator             150592        4.202713\n",
      "                        0.321019      Forrest Gump             181508        4.299910\n",
      "                        0.315738  Band of Brothers              37514        4.513328\n",
      "                        0.315564           Platoon              64175        3.986038\n",
      "                        0.303892  We Were Soldiers              64917        4.005299\n",
      "                        0.295405  Schindler's List             101141        4.458004\n",
      "                        0.292609 Sands of Iwo Jima               7803        3.705242\n"
     ]
    }
   ],
   "source": [
    "get_similar_movies(\"Saving Private Ryan\", 0)\n",
    "# here it ouputs similar war movies\n"
   ]
  },
  {
   "cell_type": "code",
   "execution_count": 60,
   "metadata": {},
   "outputs": [
    {
     "data": {
      "text/plain": [
       "75859"
      ]
     },
     "execution_count": 60,
     "metadata": {},
     "output_type": "execute_result"
    }
   ],
   "source": [
    "# del df_pivot\n",
    "gc.collect()"
   ]
  },
  {
   "cell_type": "code",
   "execution_count": null,
   "metadata": {},
   "outputs": [],
   "source": []
  },
  {
   "cell_type": "code",
   "execution_count": null,
   "metadata": {},
   "outputs": [],
   "source": []
  },
  {
   "cell_type": "code",
   "execution_count": null,
   "metadata": {},
   "outputs": [],
   "source": []
  },
  {
   "cell_type": "code",
   "execution_count": null,
   "metadata": {},
   "outputs": [],
   "source": []
  },
  {
   "cell_type": "markdown",
   "metadata": {},
   "source": [
    "### collaborative filtering\n",
    "Singular Value Decomposition (SVD)"
   ]
  },
  {
   "cell_type": "code",
   "execution_count": 136,
   "metadata": {},
   "outputs": [
    {
     "name": "stdout",
     "output_type": "stream",
     "text": [
      "Liked movies by user 1987434 are : \n",
      "                                                  Name  Year  Rating\n",
      "                                      X2: X-Men United  2003       5\n",
      "                                               Ed Wood  1994       5\n",
      "   Monty Python's The Meaning of Life: Special Edition  1983       5\n",
      "                                            Roger & Me  1989       5\n",
      "                                                  Jaws  1975       5\n",
      "                                The Simpsons: Season 1  1989       5\n",
      "                                       Rosemary's Baby  1968       5\n",
      "                 Eternal Sunshine of the Spotless Mind  2004       5\n",
      "Pirates of the Caribbean: The Curse of the Black Pearl  2003       5\n",
      "                                  Being John Malkovich  1999       5\n"
     ]
    }
   ],
   "source": [
    "# first we can observe like movies of a customer\n",
    "def get_prev_liked_movies(user_id, rating=5, num_movies=10):\n",
    "    liked_movies = df[(df['Cust_Id'] == user_id) & (df['Rating'] == rating)]\n",
    "    liked_movies.set_index('Movie_Id', inplace=True)\n",
    "    liked_movies = liked_movies.join(df_title)[['Name', 'Year', 'Rating']]\n",
    "    print(\"Liked movies by user {} are : \".format(user_id))\n",
    "    # print(liked_movies.unique())\n",
    "    print(liked_movies.head(num_movies).to_string(index=False))\n",
    "\n",
    "\n",
    "get_prev_liked_movies(1987434)\n"
   ]
  },
  {
   "cell_type": "code",
   "execution_count": 124,
   "metadata": {},
   "outputs": [
    {
     "name": "stdout",
     "output_type": "stream",
     "text": [
      "Evaluating RMSE of algorithm SVD on 5 split(s).\n",
      "\n",
      "                  Fold 1  Fold 2  Fold 3  Fold 4  Fold 5  Mean    Std     \n",
      "RMSE (testset)    0.9089  0.9081  0.9112  0.9098  0.9112  0.9098  0.0012  \n",
      "Fit time          13.61   12.53   15.94   15.05   12.56   13.94   1.36    \n",
      "Test time         4.96    3.90    5.16    5.17    4.27    4.69    0.52    \n"
     ]
    },
    {
     "data": {
      "text/plain": [
       "{'test_rmse': array([0.90888754, 0.90808392, 0.91117295, 0.90983842, 0.91122518]),\n",
       " 'fit_time': (13.61171841621399,\n",
       "  12.529053211212158,\n",
       "  15.939460277557373,\n",
       "  15.049062490463257,\n",
       "  12.560122966766357),\n",
       " 'test_time': (4.958907842636108,\n",
       "  3.896749258041382,\n",
       "  5.16167950630188,\n",
       "  5.1707069873809814,\n",
       "  4.274164438247681)}"
      ]
     },
     "execution_count": 124,
     "metadata": {},
     "output_type": "execute_result"
    }
   ],
   "source": [
    "reader = Reader()\n",
    "\n",
    "# get just top 100K rows for faster run time\n",
    "data = Dataset.load_from_df(df[['Cust_Id', 'Movie_Id', 'Rating']][:1000000], reader)\n",
    "#data.split(n_folds=3)\n",
    "trainset = data.build_full_trainset()\n",
    "\n",
    "algo = SVD()\n",
    "cross_validate(algo, data, measures=['RMSE'] , cv=5, verbose=10)\n"
   ]
  },
  {
   "cell_type": "code",
   "execution_count": 137,
   "metadata": {},
   "outputs": [
    {
     "name": "stdout",
     "output_type": "stream",
     "text": [
      "465.099514 MB\n"
     ]
    }
   ],
   "source": [
    "print(sys.getsizeof(df) /1_000_000 , \"MB\")\n"
   ]
  },
  {
   "cell_type": "code",
   "execution_count": 120,
   "metadata": {},
   "outputs": [
    {
     "data": {
      "text/plain": [
       "<surprise.prediction_algorithms.matrix_factorization.SVD at 0x2be889ed8b0>"
      ]
     },
     "execution_count": 120,
     "metadata": {},
     "output_type": "execute_result"
    }
   ],
   "source": [
    "\n",
    "\n",
    "\n",
    "# getting full dataset\n",
    "\n",
    "trainset = data.build_full_trainset()\n",
    "algo.fit(trainset)\n"
   ]
  },
  {
   "cell_type": "code",
   "execution_count": 188,
   "metadata": {},
   "outputs": [],
   "source": [
    "def recommend_movies(user_id, min_ratings_count=0, n_movies=10):\n",
    "    user = df_title.copy()\n",
    "    user = user.reset_index()\n",
    "    # user = user[~user['Movie_Id'].isin(drop_movie_list)]\n",
    "    user['Estimated rating'] = user['Movie_Id'].apply(\n",
    "        lambda x: algo.predict(user_id, x).est)\n",
    "    # print(user.head())\n",
    "    user.set_index('Movie_Id', inplace=True)\n",
    "    \n",
    "    # print(user.head())\n",
    "    user = user.join(df_movie_summary)[['Name' , 'Estimated rating', 'count']]\n",
    "    user = user[user['count'] > min_ratings_count]\n",
    "    user = user.sort_values('Estimated rating', ascending=False)\n",
    "    user.rename(columns={\"Name\": \"movie name\", \"count\": \"number of ratings\" } , inplace=True)\n",
    "    print(user.head(n_movies).to_string(index=False))\n",
    "\n"
   ]
  },
  {
   "cell_type": "code",
   "execution_count": 189,
   "metadata": {},
   "outputs": [
    {
     "name": "stdout",
     "output_type": "stream",
     "text": [
      "            movie name  Estimated rating  number of ratings\n",
      "      X2: X-Men United          3.954219            73490.0\n",
      "        Reservoir Dogs          3.919622            66263.0\n",
      "     Kill Bill: Vol. 2          3.805133            76858.0\n",
      "       American Beauty          3.754870           102478.0\n",
      " Bridget Jones's Diary          3.720629            59528.0\n",
      "Something's Gotta Give          3.672999            76604.0\n",
      "   Lost in Translation          3.588129            85498.0\n",
      "    Behind Enemy Lines          3.588129            57317.0\n",
      "               Twister          3.588129            90249.0\n",
      "       Lethal Weapon 2          3.588129            55018.0\n"
     ]
    }
   ],
   "source": [
    "recommend_movies(23443, 50000, 10)\n"
   ]
  },
  {
   "cell_type": "code",
   "execution_count": null,
   "metadata": {},
   "outputs": [],
   "source": []
  },
  {
   "cell_type": "code",
   "execution_count": 190,
   "metadata": {},
   "outputs": [
    {
     "data": {
      "text/plain": [
       "3.58812875"
      ]
     },
     "execution_count": 190,
     "metadata": {},
     "output_type": "execute_result"
    }
   ],
   "source": [
    "algo.predict(324, 2).est\n"
   ]
  },
  {
   "cell_type": "code",
   "execution_count": null,
   "metadata": {},
   "outputs": [],
   "source": []
  },
  {
   "cell_type": "code",
   "execution_count": null,
   "metadata": {},
   "outputs": [],
   "source": []
  },
  {
   "cell_type": "code",
   "execution_count": null,
   "metadata": {},
   "outputs": [],
   "source": []
  },
  {
   "cell_type": "code",
   "execution_count": null,
   "metadata": {},
   "outputs": [],
   "source": []
  },
  {
   "cell_type": "code",
   "execution_count": null,
   "metadata": {},
   "outputs": [],
   "source": []
  },
  {
   "cell_type": "code",
   "execution_count": null,
   "metadata": {},
   "outputs": [],
   "source": []
  },
  {
   "cell_type": "code",
   "execution_count": null,
   "metadata": {},
   "outputs": [],
   "source": []
  }
 ],
 "metadata": {
  "kernelspec": {
   "display_name": "Python 3.9.12 ('tensor01')",
   "language": "python",
   "name": "python3"
  },
  "language_info": {
   "codemirror_mode": {
    "name": "ipython",
    "version": 3
   },
   "file_extension": ".py",
   "mimetype": "text/x-python",
   "name": "python",
   "nbconvert_exporter": "python",
   "pygments_lexer": "ipython3",
   "version": "3.9.12"
  },
  "orig_nbformat": 4,
  "vscode": {
   "interpreter": {
    "hash": "05f5c84e5e5f57653ee7582d937bbdc405e86860f5e761a2564c6e90b4579d90"
   }
  }
 },
 "nbformat": 4,
 "nbformat_minor": 2
}
